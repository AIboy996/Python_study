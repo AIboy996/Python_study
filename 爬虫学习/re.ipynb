{
 "cells": [
  {
   "cell_type": "code",
   "execution_count": 1,
   "metadata": {
    "ExecuteTime": {
     "end_time": "2021-01-23T04:57:54.830475Z",
     "start_time": "2021-01-23T04:57:54.826478Z"
    }
   },
   "outputs": [],
   "source": [
    "import re"
   ]
  },
  {
   "cell_type": "markdown",
   "metadata": {},
   "source": [
    "# compile()"
   ]
  },
  {
   "cell_type": "code",
   "execution_count": 2,
   "metadata": {
    "ExecuteTime": {
     "end_time": "2021-01-23T04:57:54.841436Z",
     "start_time": "2021-01-23T04:57:54.833457Z"
    }
   },
   "outputs": [
    {
     "name": "stdout",
     "output_type": "stream",
     "text": [
      "<re.Match object; span=(0, 11), match='我12345abcde'>\n",
      "None\n"
     ]
    }
   ],
   "source": [
    "s1 = '我12345abcde'\n",
    "s2 = '.12345abcde'\n",
    "# pattern字符串前加 “ r ” 表示原生字符串\n",
    "pattern = r'\\w.+'\n",
    "# 编译pattern\n",
    "pattern_compile = re.compile(pattern)\n",
    "# 对s1和s2分别匹配\n",
    "result1 = re.match(pattern, s1)\n",
    "result2 = re.match(pattern, s2)\n",
    "print(result1)\n",
    "print(result2)"
   ]
  },
  {
   "cell_type": "code",
   "execution_count": 3,
   "metadata": {
    "ExecuteTime": {
     "end_time": "2021-01-23T04:57:54.848423Z",
     "start_time": "2021-01-23T04:57:54.843430Z"
    }
   },
   "outputs": [
    {
     "name": "stdout",
     "output_type": "stream",
     "text": [
      "\\npc\n"
     ]
    }
   ],
   "source": [
    "print(r'\\npc')   #原生字符串"
   ]
  },
  {
   "cell_type": "code",
   "execution_count": 4,
   "metadata": {
    "ExecuteTime": {
     "end_time": "2021-01-23T04:57:54.855400Z",
     "start_time": "2021-01-23T04:57:54.850413Z"
    }
   },
   "outputs": [
    {
     "name": "stdout",
     "output_type": "stream",
     "text": [
      "\n",
      "pc\n"
     ]
    }
   ],
   "source": [
    "print('\\npc')"
   ]
  },
  {
   "cell_type": "markdown",
   "metadata": {},
   "source": [
    "# match()&search()&findall()"
   ]
  },
  {
   "cell_type": "code",
   "execution_count": 5,
   "metadata": {
    "ExecuteTime": {
     "end_time": "2021-01-23T04:57:54.863379Z",
     "start_time": "2021-01-23T04:57:54.856398Z"
    }
   },
   "outputs": [
    {
     "name": "stdout",
     "output_type": "stream",
     "text": [
      "None\n",
      "<re.Match object; span=(1, 6), match='12345'>\n",
      "['12345', '786']\n"
     ]
    }
   ],
   "source": [
    "s1 = '我12345abcde'\n",
    "s2 = '+?!@12345abcde@786ty'\n",
    "# pattern字符串前加 “ r ” 表示原生字符串\n",
    "pattern = r'\\d+'\n",
    "pattern_compile = re.compile(pattern)\n",
    "result1 = re.match(pattern_compile, s2)  #从一开始匹配一个\n",
    "result2 = re.search(pattern_compile, s1)  #从任意地方匹配一个\n",
    "result3 = re.findall(pattern_compile, s2)  #从任意地方匹配所有，返回列表\n",
    "print(result1)\n",
    "print(result2)\n",
    "print(result3)"
   ]
  },
  {
   "cell_type": "markdown",
   "metadata": {},
   "source": [
    "# Match object 的方法"
   ]
  },
  {
   "cell_type": "markdown",
   "metadata": {},
   "source": [
    "## group"
   ]
  },
  {
   "cell_type": "code",
   "execution_count": 6,
   "metadata": {
    "ExecuteTime": {
     "end_time": "2021-01-23T04:57:54.873351Z",
     "start_time": "2021-01-23T04:57:54.865374Z"
    }
   },
   "outputs": [
    {
     "name": "stdout",
     "output_type": "stream",
     "text": [
      "我12345\n",
      "0\n",
      "6\n",
      "(0, 6)\n"
     ]
    }
   ],
   "source": [
    "s1 = '我12345+abcde'\n",
    "# pattern字符串前加 “ r ” 表示原生字符串\n",
    "pattern = r'\\w+'\n",
    "pattern_compile = re.compile(pattern)\n",
    "# 返回匹配的字符串\n",
    "result1 = re.match(pattern_compile, s1).group()\n",
    "# 返回匹配开始的位置\n",
    "result2 = re.match(pattern_compile, s1).start() \n",
    "# 返回匹配结束的位置\n",
    "result3 = re.match(pattern_compile, s1).end() \n",
    "# 返回一个元组包含匹配 (开始,结束) 的位置\n",
    "result4 = re.match(pattern_compile, s1).span() \n",
    "\n",
    "print(result1)\n",
    "print(result2)\n",
    "print(result3)\n",
    "print(result4)"
   ]
  },
  {
   "cell_type": "markdown",
   "metadata": {},
   "source": [
    "## 子组"
   ]
  },
  {
   "cell_type": "code",
   "execution_count": 7,
   "metadata": {
    "ExecuteTime": {
     "end_time": "2021-01-23T04:57:54.883326Z",
     "start_time": "2021-01-23T04:57:54.876343Z"
    }
   },
   "outputs": [
    {
     "name": "stdout",
     "output_type": "stream",
     "text": [
      "我12345+abcde\n",
      "我12345\n",
      "abcde\n"
     ]
    }
   ],
   "source": [
    "s1 = '我12345+abcde'\n",
    "# pattern字符串前加 “ r ” 表示原生字符串\n",
    "pattern = r'(\\w+)\\+(\\w+)'\n",
    "pattern_compile = re.compile(pattern)\n",
    "# 返回匹配的整个字符串\n",
    "result1 = re.match(pattern_compile, s1).group()\n",
    "# 返回匹配的第一个子组字符串\n",
    "result2 = re.match(pattern_compile, s1).group(1)\n",
    "# 返回匹配的第二个子组字符串\n",
    "result3 = re.match(pattern_compile, s1).group(2)   #例如在手机号码匹配时，可以单独提取出区号和手机号\n",
    "\n",
    "print(result1)\n",
    "print(result2)\n",
    "print(result3)"
   ]
  },
  {
   "cell_type": "code",
   "execution_count": 8,
   "metadata": {
    "ExecuteTime": {
     "end_time": "2021-01-23T04:57:55.175543Z",
     "start_time": "2021-01-23T04:57:54.887318Z"
    }
   },
   "outputs": [
    {
     "ename": "IndexError",
     "evalue": "no such group",
     "output_type": "error",
     "traceback": [
      "\u001b[1;31m---------------------------------------------------------------------------\u001b[0m",
      "\u001b[1;31mIndexError\u001b[0m                                Traceback (most recent call last)",
      "\u001b[1;32m<ipython-input-8-81f5dafafa5d>\u001b[0m in \u001b[0;36m<module>\u001b[1;34m\u001b[0m\n\u001b[1;32m----> 1\u001b[1;33m \u001b[0mresult4\u001b[0m \u001b[1;33m=\u001b[0m \u001b[0mre\u001b[0m\u001b[1;33m.\u001b[0m\u001b[0mmatch\u001b[0m\u001b[1;33m(\u001b[0m\u001b[0mpattern_compile\u001b[0m\u001b[1;33m,\u001b[0m \u001b[0ms1\u001b[0m\u001b[1;33m)\u001b[0m\u001b[1;33m.\u001b[0m\u001b[0mgroup\u001b[0m\u001b[1;33m(\u001b[0m\u001b[1;36m3\u001b[0m\u001b[1;33m)\u001b[0m\u001b[1;33m\u001b[0m\u001b[1;33m\u001b[0m\u001b[0m\n\u001b[0m",
      "\u001b[1;31mIndexError\u001b[0m: no such group"
     ]
    }
   ],
   "source": [
    "result4 = re.match(pattern_compile, s1).group(3)"
   ]
  },
  {
   "cell_type": "markdown",
   "metadata": {},
   "source": [
    "## groups()"
   ]
  },
  {
   "cell_type": "code",
   "execution_count": 9,
   "metadata": {
    "ExecuteTime": {
     "end_time": "2021-01-23T04:58:04.334921Z",
     "start_time": "2021-01-23T04:58:04.330953Z"
    }
   },
   "outputs": [
    {
     "name": "stdout",
     "output_type": "stream",
     "text": [
      "('我12345', 'abcde')\n"
     ]
    }
   ],
   "source": [
    "s1 = '我12345+abcde'\n",
    "# pattern字符串前加 “ r ” 表示原生字符串\n",
    "pattern = r'(\\w+)\\+(\\w+)'\n",
    "pattern_compile = re.compile(pattern)\n",
    "# 返回含有所有子组的元组\n",
    "result1 = re.search(pattern_compile, s1).groups()\n",
    "print(result1)"
   ]
  },
  {
   "cell_type": "markdown",
   "metadata": {},
   "source": [
    "# flag参数"
   ]
  },
  {
   "cell_type": "code",
   "execution_count": 10,
   "metadata": {
    "ExecuteTime": {
     "end_time": "2021-01-23T04:58:05.747245Z",
     "start_time": "2021-01-23T04:58:05.742259Z"
    }
   },
   "outputs": [
    {
     "name": "stdout",
     "output_type": "stream",
     "text": [
      "[('我12345', 'aBCde')]\n"
     ]
    }
   ],
   "source": [
    "s1 = '我12345+aBCde'\n",
    "# pattern字符串前加 “ r ” 表示原生字符串\n",
    "pattern = r'(\\w+)\\+(\\w+)'\n",
    "pattern_compile = re.compile(pattern, re.IGNORECASE)\n",
    "# 返回一个匹配的列表\n",
    "result1 = re.findall(pattern, s1)\n",
    "print(result1)"
   ]
  },
  {
   "cell_type": "code",
   "execution_count": 11,
   "metadata": {
    "ExecuteTime": {
     "end_time": "2021-01-23T04:58:06.570960Z",
     "start_time": "2021-01-23T04:58:06.566932Z"
    }
   },
   "outputs": [
    {
     "name": "stdout",
     "output_type": "stream",
     "text": [
      "[('我12345', 'aBCde')]\n"
     ]
    }
   ],
   "source": [
    "s1 = '我12345+aBCde'\n",
    "# pattern字符串前加 “ r ” 表示原生字符串\n",
    "pattern = r'(\\w+)\\+(\\w+)'\n",
    "# 返回一个匹配的列表\n",
    "result1 = re.findall(pattern, s1, re.IGNORECASE)\n",
    "print(result1)"
   ]
  },
  {
   "cell_type": "markdown",
   "metadata": {},
   "source": [
    "# 实战"
   ]
  },
  {
   "cell_type": "code",
   "execution_count": 12,
   "metadata": {
    "ExecuteTime": {
     "end_time": "2021-01-23T04:58:07.691201Z",
     "start_time": "2021-01-23T04:58:07.687176Z"
    }
   },
   "outputs": [],
   "source": [
    "import urllib"
   ]
  },
  {
   "cell_type": "code",
   "execution_count": 13,
   "metadata": {
    "ExecuteTime": {
     "end_time": "2021-01-23T04:58:08.611486Z",
     "start_time": "2021-01-23T04:58:08.218740Z"
    }
   },
   "outputs": [],
   "source": [
    "response_1 = urllib.request.urlopen('http://wsjk.ln.gov.cn/wst_wsjskx/index.html')\n",
    "html_1 = response_1.read().decode('gbk')"
   ]
  },
  {
   "cell_type": "code",
   "execution_count": 14,
   "metadata": {
    "ExecuteTime": {
     "end_time": "2021-01-23T04:58:09.249926Z",
     "start_time": "2021-01-23T04:58:09.234217Z"
    },
    "scrolled": true
   },
   "outputs": [
    {
     "name": "stdout",
     "output_type": "stream",
     "text": [
      "<!doctype html>\n",
      "<html>\n",
      "<head>\n",
      "<meta charset=\"gb2312\">\n",
      "<title>辽宁省卫生健康委员会</title>\n",
      "<meta http-equiv=\"X-UA-Compatible\" content=\"IE=7,IE=9\" />\n",
      "\n",
      "<link rel=\"shortcut icon\" href=\"/favicon.ico\" />\n",
      "<link rel=\"stylesheet\" type=\"text/css\" href=\"static_new/css/core.css\">\n",
      "<link rel=\"stylesheet\" type=\"text/css\" href=\"../static_new/css/core.css\">\n",
      "<script type=\"text/javascript\" src=\"../images/jquery-1.8.3.min.js\"></script>\n",
      "<script type=\"text/javascript\" src=\"../static_new/js/owl.carousel.js\"></script>\n",
      "<script type=\"text/javascript\" src=\"../static_new/js/L_slide.js\"></script>\n",
      "<script src=\"../static_new/js/jquery_003.js\"></script>\n",
      "<script type=\"text/javascript\">\n",
      "$(function(){\n",
      "\t$('#owl-demo').owlCarousel({\n",
      "\t\titems: 1,\n",
      "\t\tnavigation: true,\n",
      "\t\tnavigationText: [\"上一个\",\"下一个\"],\n",
      "\t\tautoPlay: true,\n",
      "\t\tstopOnHover: true\n",
      "\t}).hover(function(){\n",
      "\t\t$('.owl-buttons').show();\n",
      "\t}, function(){\n",
      "\t\t$('.owl-buttons').hide();\n",
      "\t});\n",
      "});\n",
      "</script>\n",
      "<script src=\"../static_new/js/texiao.js\"></script>\n",
      "<style>\n",
      "/** 分页 page */\n",
      ".page { height:34px; line-height:34px; padding-top:10px; padding-bottom:10px;  color:#555; text-align:center; overflow:hidden; font-size:12px; }\n",
      ".page input{vertical-align:middle; border:1px solid #d4d4d4; padding:3px; text-align:center;}\n",
      ".page input[type=\"button\"]{ cursor:pointer;}\n",
      ".page a{  height:34px; line-height:34px; min-width:22px; text-align:center; border:1px solid #f0f0f0; background:#fff;}\n",
      ".page a:link, .page a:visited,.page2 a.current{display:inline-block; *zoom:1; padding:2px 3px; color:#555; line-height:18px; height:18px;vertical-align:middle; font-family:'\\5FAE\\8F6F\\96C5\\9ED1',Tahoma, Geneva, sans-serif;}.page a:hover,.page2 a.current{ color:#fff; background:#368dd5;}\n",
      ".page2 a{ margin-right:3px;}\n",
      "\n",
      "</style>\n",
      "<body>\n",
      "<!doctype html>\n",
      "<html>\n",
      "<head>\n",
      "<meta charset=\"gb2312\">\n",
      "<title>辽宁省卫生健康委员会</title>\n",
      "<meta http-equiv=\"X-UA-Compatible\" content=\"IE=7,IE=9\" />\n",
      "\n",
      "<link rel=\"shortcut icon\" href=\"/favicon.ico\" />\n",
      "<link rel=\"stylesheet\" type=\"text/css\" href=\"static_new/css/core.css\">\n",
      "<link rel=\"stylesheet\" type=\"text/css\" href=\"../static_new/css/core.css\">\n",
      "<script type=\"text/javascript\" src=\"../images/jquery-1.8.3.min.js\"></script>\n",
      "<script type=\"text/javascript\" src=\"../static_new/js/owl.carousel.js\"></script>\n",
      "<script type=\"text/javascript\" src=\"../static_new/js/L_slide.js\"></script>\n",
      "<script src=\"../static_new/js/jquery_003.js\"></script>\n",
      "<script type=\"text/javascript\">\n",
      "$(function(){\n",
      "\t$('#owl-demo').owlCarousel({\n",
      "\t\titems: 1,\n",
      "\t\tnavigation: true,\n",
      "\t\tnavigationText: [\"上一个\",\"下一个\"],\n",
      "\t\tautoPlay: true,\n",
      "\t\tstopOnHover: true\n",
      "\t}).hover(function(){\n",
      "\t\t$('.owl-buttons').show();\n",
      "\t}, function(){\n",
      "\t\t$('.owl-buttons').hide();\n",
      "\t});\n",
      "});\n",
      "</script>\n",
      "<script src=\"../static_new/js/texiao.js\"></script>\n",
      "\n",
      "<body>\n",
      "<div class=\"top_bg\">\n",
      "  <div class=\"header\">\n",
      "    <div class=\"box\">\n",
      "      <div class=\"genal-bg general-nav\">\n",
      "        <div class=\"header-list-wrap\">\n",
      "          <div class=\"genal-bg general-lngov\"><a href=\"http://www.ln.gov.cn/\" target=\"_blank\">辽宁省人民政府</a></div>\n",
      "          <ul class=\"general-menu\">\n",
      "            <form name=\"frmSearch\" method=\"get\" action=\"http://www.ln.gov.cn/was5/web/search\" accept-charset=\"utf-8\" onsubmit=\"document.charset='utf-8';\" target=\"_blank\">\n",
      "              \n",
      "              <li class=\"sp3\" style=\"margin-left:226px;\"><a href=\"http://mail.ln.gov.cn\" target=\"_blank\">邮箱系统</a></li>\n",
      "              <li class=\"sp4\"><a href=\"http://wcm.ln.gov.cn/wcm/app/login.jsp\" target=\"_blank\">报送系统</a></li>\n",
      "            </form>\n",
      "          </ul>\n",
      "        </div>\n",
      "      </div>\n",
      "    </div>\n",
      "   <div class=\"top_banner\">\n",
      "   \n",
      "      <div class=\"top_banner_img\">\n",
      "        <div class=\"top_banner_wrap\" style=\"padding-top:50px;\">\n",
      "        <style>\n",
      "\t\t.wst-search{ width:320px; height:33px;padding-left:616px;}\n",
      "\t\t.wst-search-txt{ width:234px; height:31px; border:1px solid #b3b2b0; border-radius:2px;}\n",
      "\t\t.wst-search-btn{ width:84px; height:33px; border:none; background:#3277c2; font-size:14px; color:#FFF; border-radius:2px;}\n",
      "\t\t</style>\n",
      "        <div class=\"wst-search\">\n",
      "        <form name=\"frmSearch\" method=\"get\" action=\"http://www.ln.gov.cn/was5/web/search\" accept-charset=\"utf-8\" onsubmit=\"avascript:return setSearchword(this);\" target=\"_blank\">\n",
      "        <table width=\"100%\" border=\"0\">\n",
      "  <tr>\n",
      "    <td> <input class=\"txt wst-search-txt\" name=\"searchword\" type=\"text\" placeholder=\" 请输入关键字\" />\n",
      "                    <input type=\"hidden\" name=\"channelid\" value=\"230711\" />\n",
      "                    <!--需修改-->\n",
      "                    <input type=\"hidden\" name=\"StringEncoding\" value=\"UTF-8\" /></td>\n",
      "    <td> <input class=\"btn wst-search-btn\" name=\"button\" type=\"submit\" value=\"搜索\" style=\"cursor:hand;\" /></td>\n",
      "  </tr>\n",
      "</table>\n",
      "  </form>\n",
      "        </div>\n",
      "          <div class=\"nav\" style=\"padding-top:62px;\">\n",
      "          <style type=\"text/css\">\n",
      "/* common styling */\n",
      ".menu { height:58px; position:relative; z-index:99999999999999   }\n",
      ".menu ul {padding:0; margin:0; list-style-type: none;}\n",
      ".menu ul li {float:left;   text-align:center;   display:block; color:#fff; height:58px; line-height:58px;}\n",
      ".menu ul li a, .menu ul li a:visited {display:block; float:left;  text-decoration:none;  }\n",
      ".menu ul li ul {display: none; font-size:14px; line-height:25px; float:left; padding:10px; overflow:hidden;}\n",
      ".menu ul li ul li { height:25px; width:85px; line-height:25px; font-size:14px}\n",
      "span.leftywpd{ width:20px; height:75px; float:left; line-height:1.3; color:#014fa0; font-size:14px; padding:0px 10px; margin-right:10px; border-right:#d4d4d4 solid 1px;}\n",
      "/* specific to non IE browsers */\n",
      ".menu ul li:hover a {color:#fff;  }\n",
      ".menu ul li:hover ul {display:block; position:absolute; width:960px; top:58px; left:0; background:#fff; color:#5e5e5e; border:#dfdfdf solid 1px;}\n",
      ".menu ul li:hover ul li a.hide { color:#5e5e5e;}\n",
      ".menu ul li:hover ul li:hover a.hide {   color:#5e5e5e;}\n",
      ".menu ul li:hover ul li ul {display: none;}\n",
      ".menu ul li:hover ul li a {display:block; background:#fff; color:#5e5e5e;}\n",
      ".menu ul li:hover ul li a:hover {background:#fff; color:#000;}\n",
      "</style>\n",
      "<!--[if lte IE 6]>\n",
      "<style type=\"text/css\">\n",
      "table {border-collapse:collapse; margin:0; padding:0;}\n",
      "span.leftywpd{ width:20px; height:75px; float:left; line-height:1.3; color:#014fa0; font-size:14px; padding:0px 10px; margin-right:10px; border:none;  }\n",
      "\n",
      ".menu ul li ul li {  width:85px; height:25px;line-height:25px; font-size:14px; overflow:hidden;}\n",
      ".menu ul li a.hide, .menu ul li a:visited.hide {display:none;}\n",
      ".menu ul li a:hover ul li a.hide {display:none;}\n",
      ".menu ul li a, .menu ul li a:visited {}\n",
      ".menu ul li a:hover {color:#fff;  }\n",
      ".menu ul li a:hover ul {display:block; position:absolute; width:960px; top:58px; left:0; background:#fff; color:#5e5e5e; overflow:hidden;}\n",
      ".menu ul li a:hover ul li a {display:block; background:#fff; color:#5e5e5e;height:25px;line-height:25px; }\n",
      ".menu ul li a:hover ul li a ul {visibility:hidden; line-height:25px; }\n",
      ".menu ul li a:hover ul li a:hover {background:#fff; color:#000;height:25px;line-height:25px; }\n",
      "</style>\n",
      "<![endif]-->\n",
      "            <div class=\"menu\">\n",
      "<ul>\n",
      "<li><a class=\"hide\" href=\"/index.html\" target=\"_parent\">网站首页</a>\n",
      "<!--[if lte IE 6]>\n",
      "<a href=\"/index.html\" target=\"_parent\">首页\n",
      "<table><tr><td>\n",
      "<![endif]-->\n",
      "\n",
      "    \n",
      "<!--[if lte IE 6]>\n",
      "</td></tr></table>\n",
      "</a>\n",
      "<![endif]-->\n",
      "</li>\n",
      "<li><a class=\"hide\" href=\"/zfxxgk_146003/zfxxgkzn/\" target=\"_parent\">政府信息公开</a>\n",
      "<!--[if lte IE 6]>\n",
      "<a href=\"/zfxxgk_146003/zfxxgkzn/\" target=\"_parent\">政府信息公开\n",
      "<table><tr><td>\n",
      "<![endif]-->\n",
      "\n",
      "<!--[if lte IE 6]>\n",
      "</td></tr></table>\n",
      "</a>\n",
      "<![endif]-->\n",
      "</li>\n",
      "<li><a class=\"hide\" href=\"/wst_xxgk/\" target=\"_parent\">信息公开</a>\n",
      "<!--[if lte IE 6]>\n",
      "<a href=\"/wst_xxgk/\" target=\"_parent\">信息公开\n",
      "<table><tr><td>\n",
      "<![endif]-->\n",
      "    <ul style=\"width:960px; clear:both;\">\n",
      "    <span class=\"leftywpd\">业务频道</span>\n",
      "    <li><a href=\"/wst_xxgk/wst_ywpd/wst_zhgl/\"  target=\"_parent\">综合管理</a></li>\n",
      "    <li><a href=\"/wst_xxgk/wst_ywpd/wst_ghxx/\"  target=\"_parent\">规划信息</a></li>\n",
      "    <li><a href=\"/wst_xxgk/wst_ywpd/wst_cwgl/\"  target=\"_parent\">财务管理</a></li>\n",
      "    <li><a href=\"/wst_xxgk/wst_ywpd/wst_fzjs/\" target=\"_parent\" >法治建设</a></li>\n",
      "    <li><a href=\"/wst_xxgk/wst_ywpd/wst_jjjc_136001/\" target=\"_parent\" >行政审批</a></li>\n",
      "    <li><a href=\"/wst_xxgk/wst_ywpd/wst_tzgg/\" target=\"_parent\" >体制改革</a></li>\n",
      "    <li><a href=\"/wst_xxgk/wst_ywpd/wst_jbfk/\"  target=\"_parent\">疾病防控</a></li>\n",
      "    <li><a href=\"/wst_xxgk/wst_ywpd/wst_yzyg/\"  target=\"_parent\">医政医管</a></li>\n",
      "    <li><a href=\"/wst_xxgk/wst_ywpd/wst_jcws/\"  target=\"_parent\">基层卫生</a></li>\n",
      "    <li><a href=\"/wst_xxgk/wst_ywpd/wst_wsyj/\" target=\"_parent\" >卫生应急</a></li>\n",
      "    <li><a href=\"/wst_xxgk/wst_ywpd/wst_jjjc_136002/\" target=\"_parent\" >安全生产</a></li>\n",
      "    <li><a href=\"/wst_xxgk/wst_ywpd/wst_kjjy/\"  target=\"_parent\">科技教育</a></li>\n",
      "    <li><a href=\"/wst_xxgk/wst_ywpd/wst_zhjd/\" target=\"_parent\" >综合监督</a></li>\n",
      "    <li><a href=\"/wst_xxgk/wst_ywpd/wst_jjjc_136003/\" target=\"_parent\" >药政管理</a></li>\n",
      "    <li><a href=\"/wst_xxgk/wst_ywpd/wst_spaq/\" target=\"_parent\" >食品安全</a></li>\n",
      "    <li><a href=\"/wst_xxgk/wst_ywpd/wst_jjjc_136004/\" target=\"_parent\" >老龄健康</a></li>\n",
      "    <li><a href=\"/wst_xxgk/wst_ywpd/wst_fyjk/\" target=\"_parent\" >妇幼健康</a></li>\n",
      "    <li><a href=\"/wst_xxgk/wst_ywpd/wst_jjjc_136005/\" target=\"_parent\" >职业健康</a></li>\n",
      "    <li><a href=\"/wst_xxgk/wst_ywpd/wst_jjjc_136006/\" target=\"_parent\" >人口监测</a></li>\n",
      "    <li><a href=\"/wst_xxgk/wst_ywpd/wst_jtfz/\"  target=\"_parent\">家庭发展</a></li>\n",
      "    <li><a href=\"/wst_xxgk/wst_ywpd/wst_jjjc_136007/\"  target=\"_parent\">宣传教育</a></li>\n",
      "    <li><a href=\"/wst_xxgk/wst_ywpd/wst_zygl/\"  target=\"_parent\">中医管理</a></li>\n",
      "    <li><a href=\"/wst_xxgk/wst_ywpd/wst_jkcj/\"  target=\"_parent\">保健教育</a></li>\n",
      "    <li><a href=\"/wst_xxgk/wst_ywpd/wst_rsgl/\"  target=\"_parent\">人事管理</a></li>\n",
      "    <li><a href=\"/wst_xxgk/wst_ywpd/wst_jgdw/\"  target=\"_parent\">机关党委</a></li>\n",
      "    <li><a href=\"/wst_xxgk/wst_ywpd/wst_jjjc/\"  target=\"_parent\">纪检监察</a></li>\n",
      "    \n",
      "    \n",
      "    \n",
      "    \n",
      "    \n",
      "    \n",
      "    \n",
      "\n",
      "    </ul>\n",
      "\n",
      "</li>\n",
      "<li><a class=\"hide\" href=\"/wst_hdjl/\" target=\"_parent\">互动交流</a>\n",
      "<!--[if lte IE 6]>\n",
      "<a href=\"/wst_hdjl/\" target=\"_parent\">互动交流\n",
      "<table><tr><td>\n",
      "<![endif]-->\n",
      "\n",
      "<!--[if lte IE 6]>\n",
      "</td></tr></table>\n",
      "</a>\n",
      "<![endif]-->\n",
      "</li>\n",
      "<li><a class=\"hide\" href=\"/wst_xzzq/\" target=\"_parent\">下载专区</a>\n",
      "<!--[if lte IE 6]>\n",
      "<a href=\"/wst_xzzq/\" target=\"_parent\">下载专区\n",
      "<table><tr><td>\n",
      "<![endif]-->\n",
      "\n",
      "\n",
      "<!--[if lte IE 6]>\n",
      "</td></tr></table>\n",
      "</a>\n",
      "<![endif]-->\n",
      "</li>\n",
      "   <p style=\" float: left;margin-left: 57px;\"><a href=\"http://www.ln12320.cn/\"  target=\"_parent\" style=\"display:block;width:110px;height:58px;\">&nbsp;&nbsp;&nbsp;</a></p>\n",
      "</ul>\n",
      "</div>\n",
      "          </div>\n",
      "        </div>\n",
      "      </div>\n",
      "    </div>\n",
      "  </div>\n",
      "</div>\n",
      "</body>\n",
      "</html>\n",
      "\n",
      "<!-- no1 start  -->\n",
      "\n",
      "<div class=\"wst_ny_bg\">\n",
      "\t<div class=\"wst_ny_title\"><a href=\"../\" title=\"首页\" class=\"CurrChnlCls\">首页</a>&gt;<a href=\"./\" title=\"卫生健康快讯\" class=\"CurrChnlCls\">卫生健康快讯</a></div></div>\n",
      "\t<div class=\"wst_ny_bg1\">\n",
      "\t  <div class=\"wst_ny_con\">\n",
      "    \t<div class=\"jgsz_left\">\n",
      "        \n",
      "        \t<ul>\n",
      "            \t<li><a href='./' class=\"wskx_01\">卫生健康快讯</a></li>\n",
      "            \t<li><a href='../wst_wjgg/' class=\"wskx_02\">政务公开</a></li>\n",
      "            \t<li><a href='../wst_mtbb/' class=\"wskx_03\">媒体播报</a></li>\n",
      "            \t<li><a href='../wst_zcjd/' class=\"wskx_04\">政策解读</a></li>\n",
      "\t\t<li><a href='../wst_csdt/' class=\"wskx_05\">处室动态</a></li>\n",
      "\t\t<li><a href='../wjfc/' class=\"wskx_03\">卫健风采</a></li>\n",
      "            \t<li><a href='../wst_sjdwdt/' class=\"wskx_06\">省级单位动态</a></li>\n",
      "            \t<li><a href='../wst_dfxx/' class=\"wskx_07\">地方信息</a></li>\n",
      "            </ul>\n",
      "        </div>\n",
      "      <div class=\"jgsz_right\">\n",
      "      \t<div class=\"jgsz_right_title\">卫生健康快讯</div>\n",
      "      \t<div class=\"jgsz_right_con\">\n",
      "        \t<ul>\n",
      "          \n",
      "            <li>\n",
      "              <a href=\"./202012/t20201231_4063814.html\" target=\"_blank\">2021年新年贺词</a>\n",
      "              <span class=\"datetime\">\n",
      "              12-31\n",
      "              </span></li>\n",
      "            <li>\n",
      "              <a href=\"./202011/t20201113_4011790.html\" target=\"_blank\">深入贯彻落实习近平总书记重要指示精神 进一步部署常态化疫情防控工作</a>\n",
      "              <span class=\"datetime\">\n",
      "              11-13\n",
      "              </span></li>\n",
      "            <li>\n",
      "              <a href=\"./202101/t20210111_4068147.html\" target=\"_blank\">第三批中国（辽宁）援冈比亚医疗队圆满完成援外任务安全返回辽宁</a>\n",
      "              <span class=\"datetime\">\n",
      "              01-11\n",
      "              </span></li>\n",
      "            <li>\n",
      "              <a href=\"./202101/t20210123_4074403.html\" target=\"_blank\">2021年1月22日12时至24时辽宁新型冠状病毒肺炎疫情情况</a>\n",
      "              <span class=\"datetime\">\n",
      "              01-23\n",
      "              </span></li>\n",
      "            <li>\n",
      "              <a href=\"./202101/t20210122_4074292.html\" target=\"_blank\">2021年1月22日0时至12时辽宁新型冠状病毒肺炎疫情情况</a>\n",
      "              <span class=\"datetime\">\n",
      "              01-22\n",
      "              </span></li>\n",
      "            <li>\n",
      "              <a href=\"./202101/t20210122_4073755.html\" target=\"_blank\">2021年1月21日12时至24时辽宁新型冠状病毒肺炎疫情情况</a>\n",
      "              <span class=\"datetime\">\n",
      "              01-22\n",
      "              </span></li>\n",
      "            <li>\n",
      "              <a href=\"./202101/t20210121_4073599.html\" target=\"_blank\">2021年1月21日0时至12时辽宁新型冠状病毒肺炎疫情情况</a>\n",
      "              <span class=\"datetime\">\n",
      "              01-21\n",
      "              </span></li>\n",
      "            <li>\n",
      "              <a href=\"./202101/t20210121_4073085.html\" target=\"_blank\">2021年1月20日12时至24时辽宁新型冠状病毒肺炎疫情情况</a>\n",
      "              <span class=\"datetime\">\n",
      "              01-21\n",
      "              </span></li>\n",
      "            <li>\n",
      "              <a href=\"./202101/t20210120_4072941.html\" target=\"_blank\">2021年1月20日0时至12时辽宁新型冠状病毒肺炎疫情情况</a>\n",
      "              <span class=\"datetime\">\n",
      "              01-20\n",
      "              </span></li>\n",
      "            <li>\n",
      "              <a href=\"./202101/t20210120_4072460.html\" target=\"_blank\">2021年1月19日12时至24时辽宁新型冠状病毒肺炎疫情情况</a>\n",
      "              <span class=\"datetime\">\n",
      "              01-20\n",
      "              </span></li>\n",
      "            <li>\n",
      "              <a href=\"./202101/t20210119_4072360.html\" target=\"_blank\">2021年1月19日0时至12时辽宁新型冠状病毒肺炎疫情情况</a>\n",
      "              <span class=\"datetime\">\n",
      "              01-19\n",
      "              </span></li>\n",
      "            <li>\n",
      "              <a href=\"./202101/t20210119_4071725.html\" target=\"_blank\">2021年1月18日12时至24时辽宁新型冠状病毒肺炎疫情情况</a>\n",
      "              <span class=\"datetime\">\n",
      "              01-19\n",
      "              </span></li>\n",
      "            <li>\n",
      "              <a href=\"./202101/t20210118_4071603.html\" target=\"_blank\">2021年1月18日0时至12时辽宁新型冠状病毒肺炎疫情情况</a>\n",
      "              <span class=\"datetime\">\n",
      "              01-18\n",
      "              </span></li>\n",
      "            <li>\n",
      "              <a href=\"./202101/t20210118_4071074.html\" target=\"_blank\">2021年1月17日12时至24时辽宁新型冠状病毒肺炎疫情情况</a>\n",
      "              <span class=\"datetime\">\n",
      "              01-18\n",
      "              </span></li>\n",
      "            <li>\n",
      "              <a href=\"./202101/t20210117_4071035.html\" target=\"_blank\">2021年1月17日0时至12时辽宁新型冠状病毒肺炎疫情情况</a>\n",
      "              <span class=\"datetime\">\n",
      "              01-17\n",
      "              </span></li>\n",
      "            <li>\n",
      "              <a href=\"./202101/t20210117_4071014.html\" target=\"_blank\">2021年1月16日12时至24时辽宁新型冠状病毒肺炎疫情情况</a>\n",
      "              <span class=\"datetime\">\n",
      "              01-17\n",
      "              </span></li>\n",
      "            <li>\n",
      "              <a href=\"./202101/t20210116_4070969.html\" target=\"_blank\">2021年1月16日0时至12时辽宁新型冠状病毒肺炎疫情情况</a>\n",
      "              <span class=\"datetime\">\n",
      "              01-16\n",
      "              </span></li>\n",
      "            <li>\n",
      "              <a href=\"./202101/t20210116_4070940.html\" target=\"_blank\">2021年1月15日12时至24时辽宁新型冠状病毒肺炎疫情情况</a>\n",
      "              <span class=\"datetime\">\n",
      "              01-16\n",
      "              </span></li>\n",
      "            <li>\n",
      "              <a href=\"./202101/t20210115_4070800.html\" target=\"_blank\">2021年1月15日0时至12时辽宁新型冠状病毒肺炎疫情情况</a>\n",
      "              <span class=\"datetime\">\n",
      "              01-15\n",
      "              </span></li>\n",
      "            <li>\n",
      "              <a href=\"./202101/t20210115_4070389.html\" target=\"_blank\">2021年1月14日12时至24时辽宁新型冠状病毒肺炎疫情情况</a>\n",
      "              <span class=\"datetime\">\n",
      "              01-15\n",
      "              </span></li>\n",
      "            </ul>\n",
      "            <!--  start:page  -->\n",
      "        <div class=\"page page2\"><!--修改分页变换样式-->\n",
      "<script language=\"JavaScript\" type=\"text/javascript\">\n",
      "//createPageHTML(50, 0, \"index\", \"html\");\n",
      "var currentPage = 0;//所在页从0开始\n",
      "//var headPage = \"index\"+\".\"+\"html\";//首页\n",
      "//var tailPage = \"index_\" + (countPage-1) + \".html\"//尾页\n",
      "var prevPage = currentPage-1//上一页\n",
      "var nextPage = currentPage+1//下一页\n",
      "var countPage = 50//共多少页\n",
      "\n",
      "document.write(\"共\"+countPage+\"页&nbsp;&nbsp;\");\n",
      "//设置上一页代码\n",
      "if(countPage>1&&currentPage!=0&&currentPage!=1)\n",
      "\tdocument.write(\"<a href=\\\"index.html\\\">首页</a>&nbsp;<a href=\\\"index\"+\"_\" + prevPage + \".\"+\"html\\\">上一页</a>&nbsp;\");\n",
      "else if(countPage>1&&currentPage!=0&&currentPage==1)\n",
      "\tdocument.write(\"<a href=\\\"index.html\\\">首页</a>&nbsp;<a href=\\\"index.html\\\">上一页</a>&nbsp;\");\n",
      "else\n",
      "\tdocument.write(\"首页&nbsp;上一页&nbsp;\");\n",
      "//循环\n",
      "var num = 5;\n",
      "for(var i=0+(currentPage-1-(currentPage-1)%num) ; i<=(num+(currentPage-1-(currentPage-1)%num))&&(i<countPage) ; i++){\n",
      "\tif(currentPage==i)\n",
      "\t\tdocument.write(\"<a class='current'>\"+(i+1)+\"</a>&nbsp;\");\n",
      "\telse if(i==0){\n",
      "\t\tdocument.write(\"<a href=\\\"index.html\\\">\"+1+\"</a>&nbsp;\");\n",
      "\t}else \n",
      "\t\tdocument.write(\"<a href=\\\"index\"+\"_\" + i + \".\"+\"html\\\">\"+(i+1)+\"</a>&nbsp;\");\n",
      "}\n",
      "//设置下一页代码 \n",
      "if(countPage>1&&currentPage!=(countPage-1))\n",
      "\tdocument.write(\"<a href=\\\"index\"+\"_\" + nextPage + \".\"+\"html\\\">下一页</a>&nbsp;<a href=\\\"index_\" + (countPage-1) + \".html\\\">尾页</a>&nbsp;\");\n",
      "else\n",
      "\tdocument.write(\"下一页&nbsp;尾页&nbsp;\");\n",
      "\t\n",
      "//跳转页面\n",
      "document.write(\"<font class='zt9'>转到&nbsp;第<input type='text' id='num' value=\"+(currentPage+1)+\" style='width:25px' />页\"+\n",
      "\t\t             \"&nbsp;<input type='submit' value='提交' onClick=javacript:toPage() /></font>\");\n",
      "function toPage(){\n",
      "\tvar _num = document.getElementById(\"num\").value;\n",
      "\tvar str = \"index\"+\"_\"+(_num-1)+\".\"+\"html\";\n",
      "\tvar url = location.href.substring(0,location.href.lastIndexOf(\"/\")+1);\n",
      "\tif(_num<=1||_num==null)\n",
      "\t\tlocation.href = url+\"index\"+\".\"+\"html\";\n",
      "\telse if(_num>countPage)\n",
      "\t\talert(\"本频道最多\"+countPage+\"页\");\n",
      "\telse\n",
      "\t\tlocation.href = url+str;\n",
      "}\t\n",
      "</script>\n",
      "\n",
      "        </div>\n",
      "        <!-- end:page  --> \n",
      "        </div>\n",
      "        \n",
      "        \n",
      "        \n",
      "        \n",
      "        \n",
      "        \n",
      "      </div>\n",
      "    </div>\n",
      "    </div>\n",
      "\n",
      " \n",
      "<!doctype html>\n",
      "<html>\n",
      "<head>\n",
      "<meta charset=\"gb2312\">\n",
      "<title>辽宁省卫生健康委员会</title>\n",
      "<meta http-equiv=\"X-UA-Compatible\" content=\"IE=7,IE=9\" />\n",
      "\n",
      "<link rel=\"shortcut icon\" href=\"/favicon.ico\" />\n",
      "<link rel=\"stylesheet\" type=\"text/css\" href=\"static_new/css/core.css\">\n",
      "<link rel=\"stylesheet\" type=\"text/css\" href=\"../static_new/css/core.css\">\n",
      "<style>\n",
      ".footer_main ul li a:link,.footer_main ul li a:visited {\n",
      "    color: #818181;\n",
      "}\n",
      "</style>\n",
      "<body>\n",
      "<!-- start: footer  -->\n",
      "<div class=\"footer\" style=\"margin-top:0px;\">\n",
      "  <div class=\"wrap\">\n",
      "  <div class=\"footer_title\">辽宁省卫生健康委员会</div>\n",
      "    <div class=\"footer_erweima\"><a href=\"http://bszs.conac.cn/sitename?method=show&id=207767E141A83C20E053022819AC222E\" target=\"_blank\"><img src=\"../images/dzjg.jpg\" width=\"51\" height=\"63\" /></a></div>\n",
      "    <div class=\"footer_main\">\n",
      "      <ul>\n",
      "        <li><a  href=\"/index.html\" target=\"_parent\">网站首页</a></li>\n",
      "        <li> <a href=\"/wst_xxgk/\" target=\"_parent\">信息公开</a></li>\n",
      "        <li> <a href=\"/wst_ggfw/wst_gyfw/\" target=\"_parent\">公益服务</a></li>\n",
      "        <li> <a href=\"/wst_hdjl/\" target=\"_parent\">互动交流</a></li>\n",
      "        <li> <a href=\"/wst_ztzl/\" target=\"_parent\">专题专栏</a></li>\n",
      "        <li> <a href=\"/wst_gywm/\" target=\"_parent\">关于我们</a></li>\n",
      "        <li> <a href=\"/wst_zzsm/\" target=\"_parent\">郑重声明</a></li>\n",
      "        <li> <a href=\"/wst_wzdt/\" target=\"_parent\">网站地图</a></li>\n",
      "      </ul>\n",
      "      <br/>\n",
      "      本网站各类信息未经授权禁止转载    辽宁省卫生健康委版权所有    备案编号：辽ICP备10204461号<br>  网站标识码：2100000068</div>\n",
      "      <div class=\"footer_fwl\" style=\"text-align:center;line-height:20px;\">\n",
      "访问量<br>\n",
      "\n",
      "<iframe frameborder=\"0\" scrolling=\"no\" src=\"http://218.60.144.36:4001/jsq.aspx\" width=\"186\" height=\"38\"></iframe>\n",
      "\n",
      "</div>\n",
      "    <br style=\"clear:both;\"/>\n",
      "    <div style=\"position:absolute;margin-top:-75px;margin-left:-150px;\"><script id=\"_jiucuo_\" sitecode='2100000068' src='../images/jiucuo.js'></script></div>\n",
      "  </div>\n",
      "</div>\n",
      "<!-- end: footer  -->\n",
      "</body>\n",
      "</html>\n",
      "</body>\n",
      "</html>\n"
     ]
    }
   ],
   "source": [
    "print(html_1)"
   ]
  },
  {
   "cell_type": "code",
   "execution_count": 16,
   "metadata": {
    "ExecuteTime": {
     "end_time": "2021-01-23T04:58:18.047823Z",
     "start_time": "2021-01-23T04:58:18.043836Z"
    },
    "scrolled": false
   },
   "outputs": [],
   "source": [
    "pattern = r'/\\d+/t\\d+_\\d+\\.html'\n",
    "pattern_compile = re.compile(pattern)\n",
    "result_1 = re.findall(pattern_compile,html_1)"
   ]
  },
  {
   "cell_type": "code",
   "execution_count": 17,
   "metadata": {
    "ExecuteTime": {
     "end_time": "2021-01-23T04:58:19.084369Z",
     "start_time": "2021-01-23T04:58:19.075359Z"
    }
   },
   "outputs": [
    {
     "data": {
      "text/plain": [
       "['/202012/t20201231_4063814.html',\n",
       " '/202011/t20201113_4011790.html',\n",
       " '/202101/t20210111_4068147.html',\n",
       " '/202101/t20210123_4074403.html',\n",
       " '/202101/t20210122_4074292.html',\n",
       " '/202101/t20210122_4073755.html',\n",
       " '/202101/t20210121_4073599.html',\n",
       " '/202101/t20210121_4073085.html',\n",
       " '/202101/t20210120_4072941.html',\n",
       " '/202101/t20210120_4072460.html',\n",
       " '/202101/t20210119_4072360.html',\n",
       " '/202101/t20210119_4071725.html',\n",
       " '/202101/t20210118_4071603.html',\n",
       " '/202101/t20210118_4071074.html',\n",
       " '/202101/t20210117_4071035.html',\n",
       " '/202101/t20210117_4071014.html',\n",
       " '/202101/t20210116_4070969.html',\n",
       " '/202101/t20210116_4070940.html',\n",
       " '/202101/t20210115_4070800.html',\n",
       " '/202101/t20210115_4070389.html']"
      ]
     },
     "execution_count": 17,
     "metadata": {},
     "output_type": "execute_result"
    }
   ],
   "source": [
    "result_1"
   ]
  },
  {
   "cell_type": "code",
   "execution_count": 18,
   "metadata": {
    "ExecuteTime": {
     "end_time": "2021-01-23T04:58:21.514562Z",
     "start_time": "2021-01-23T04:58:21.511014Z"
    }
   },
   "outputs": [],
   "source": [
    "url_list = []"
   ]
  },
  {
   "cell_type": "code",
   "execution_count": 19,
   "metadata": {
    "ExecuteTime": {
     "end_time": "2021-01-23T04:58:22.085148Z",
     "start_time": "2021-01-23T04:58:22.081122Z"
    }
   },
   "outputs": [],
   "source": [
    "for i in result_1:\n",
    "    url_list.append('http://wsjk.ln.gov.cn/wst_wsjskx'+i)"
   ]
  },
  {
   "cell_type": "code",
   "execution_count": 20,
   "metadata": {
    "ExecuteTime": {
     "end_time": "2021-01-23T04:58:22.925051Z",
     "start_time": "2021-01-23T04:58:22.922030Z"
    }
   },
   "outputs": [
    {
     "name": "stdout",
     "output_type": "stream",
     "text": [
      "http://wsjk.ln.gov.cn/wst_wsjskx/202012/t20201231_4063814.html\n",
      "http://wsjk.ln.gov.cn/wst_wsjskx/202011/t20201113_4011790.html\n",
      "http://wsjk.ln.gov.cn/wst_wsjskx/202101/t20210111_4068147.html\n",
      "http://wsjk.ln.gov.cn/wst_wsjskx/202101/t20210123_4074403.html\n",
      "http://wsjk.ln.gov.cn/wst_wsjskx/202101/t20210122_4074292.html\n",
      "http://wsjk.ln.gov.cn/wst_wsjskx/202101/t20210122_4073755.html\n",
      "http://wsjk.ln.gov.cn/wst_wsjskx/202101/t20210121_4073599.html\n",
      "http://wsjk.ln.gov.cn/wst_wsjskx/202101/t20210121_4073085.html\n",
      "http://wsjk.ln.gov.cn/wst_wsjskx/202101/t20210120_4072941.html\n",
      "http://wsjk.ln.gov.cn/wst_wsjskx/202101/t20210120_4072460.html\n",
      "http://wsjk.ln.gov.cn/wst_wsjskx/202101/t20210119_4072360.html\n",
      "http://wsjk.ln.gov.cn/wst_wsjskx/202101/t20210119_4071725.html\n",
      "http://wsjk.ln.gov.cn/wst_wsjskx/202101/t20210118_4071603.html\n",
      "http://wsjk.ln.gov.cn/wst_wsjskx/202101/t20210118_4071074.html\n",
      "http://wsjk.ln.gov.cn/wst_wsjskx/202101/t20210117_4071035.html\n",
      "http://wsjk.ln.gov.cn/wst_wsjskx/202101/t20210117_4071014.html\n",
      "http://wsjk.ln.gov.cn/wst_wsjskx/202101/t20210116_4070969.html\n",
      "http://wsjk.ln.gov.cn/wst_wsjskx/202101/t20210116_4070940.html\n",
      "http://wsjk.ln.gov.cn/wst_wsjskx/202101/t20210115_4070800.html\n",
      "http://wsjk.ln.gov.cn/wst_wsjskx/202101/t20210115_4070389.html\n"
     ]
    }
   ],
   "source": [
    "for i in url_list:\n",
    "    print(i)"
   ]
  },
  {
   "cell_type": "code",
   "execution_count": null,
   "metadata": {},
   "outputs": [],
   "source": []
  }
 ],
 "metadata": {
  "kernelspec": {
   "display_name": "Python 3",
   "language": "python",
   "name": "python3"
  },
  "language_info": {
   "codemirror_mode": {
    "name": "ipython",
    "version": 3
   },
   "file_extension": ".py",
   "mimetype": "text/x-python",
   "name": "python",
   "nbconvert_exporter": "python",
   "pygments_lexer": "ipython3",
   "version": "3.8.5"
  },
  "toc": {
   "base_numbering": 1,
   "nav_menu": {},
   "number_sections": true,
   "sideBar": true,
   "skip_h1_title": false,
   "title_cell": "Table of Contents",
   "title_sidebar": "Contents",
   "toc_cell": false,
   "toc_position": {},
   "toc_section_display": true,
   "toc_window_display": false
  },
  "varInspector": {
   "cols": {
    "lenName": 16,
    "lenType": 16,
    "lenVar": 40
   },
   "kernels_config": {
    "python": {
     "delete_cmd_postfix": "",
     "delete_cmd_prefix": "del ",
     "library": "var_list.py",
     "varRefreshCmd": "print(var_dic_list())"
    },
    "r": {
     "delete_cmd_postfix": ") ",
     "delete_cmd_prefix": "rm(",
     "library": "var_list.r",
     "varRefreshCmd": "cat(var_dic_list()) "
    }
   },
   "types_to_exclude": [
    "module",
    "function",
    "builtin_function_or_method",
    "instance",
    "_Feature"
   ],
   "window_display": false
  }
 },
 "nbformat": 4,
 "nbformat_minor": 4
}
