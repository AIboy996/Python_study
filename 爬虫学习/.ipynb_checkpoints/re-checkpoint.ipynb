{
 "cells": [
  {
   "cell_type": "code",
   "execution_count": 11,
   "metadata": {
    "ExecuteTime": {
     "end_time": "2021-01-23T02:26:05.052750Z",
     "start_time": "2021-01-23T02:26:05.048744Z"
    }
   },
   "outputs": [],
   "source": [
    "import re"
   ]
  },
  {
   "cell_type": "markdown",
   "metadata": {},
   "source": [
    "# compile()"
   ]
  },
  {
   "cell_type": "code",
   "execution_count": 12,
   "metadata": {
    "ExecuteTime": {
     "end_time": "2021-01-23T02:26:06.214237Z",
     "start_time": "2021-01-23T02:26:06.209252Z"
    }
   },
   "outputs": [
    {
     "name": "stdout",
     "output_type": "stream",
     "text": [
      "<re.Match object; span=(0, 11), match='我12345abcde'>\n",
      "None\n"
     ]
    }
   ],
   "source": [
    "s1 = '我12345abcde'\n",
    "s2 = '.12345abcde'\n",
    "# pattern字符串前加 “ r ” 表示原生字符串\n",
    "pattern = r'\\w.+'\n",
    "# 编译pattern\n",
    "pattern_compile = re.compile(pattern)\n",
    "# 对s1和s2分别匹配\n",
    "result1 = re.match(pattern, s1)\n",
    "result2 = re.match(pattern, s2)\n",
    "print(result1)\n",
    "print(result2)"
   ]
  },
  {
   "cell_type": "code",
   "execution_count": 13,
   "metadata": {
    "ExecuteTime": {
     "end_time": "2021-01-23T02:26:06.954075Z",
     "start_time": "2021-01-23T02:26:06.950084Z"
    }
   },
   "outputs": [
    {
     "name": "stdout",
     "output_type": "stream",
     "text": [
      "\\npc\n"
     ]
    }
   ],
   "source": [
    "print(r'\\npc')   #原生字符串"
   ]
  },
  {
   "cell_type": "code",
   "execution_count": 14,
   "metadata": {
    "ExecuteTime": {
     "end_time": "2021-01-23T02:26:07.495944Z",
     "start_time": "2021-01-23T02:26:07.489951Z"
    }
   },
   "outputs": [
    {
     "name": "stdout",
     "output_type": "stream",
     "text": [
      "\n",
      "pc\n"
     ]
    }
   ],
   "source": [
    "print('\\npc')"
   ]
  },
  {
   "cell_type": "markdown",
   "metadata": {},
   "source": [
    "# match()&search()&findall()"
   ]
  },
  {
   "cell_type": "code",
   "execution_count": 15,
   "metadata": {
    "ExecuteTime": {
     "end_time": "2021-01-23T02:26:07.999843Z",
     "start_time": "2021-01-23T02:26:07.989918Z"
    }
   },
   "outputs": [
    {
     "name": "stdout",
     "output_type": "stream",
     "text": [
      "None\n",
      "<re.Match object; span=(1, 6), match='12345'>\n",
      "['12345', '786']\n"
     ]
    }
   ],
   "source": [
    "s1 = '我12345abcde'\n",
    "s2 = '+?!@12345abcde@786ty'\n",
    "# pattern字符串前加 “ r ” 表示原生字符串\n",
    "pattern = r'\\d+'\n",
    "pattern_compile = re.compile(pattern)\n",
    "result1 = re.match(pattern_compile, s2)  #从一开始匹配一个\n",
    "result2 = re.search(pattern_compile, s1)  #从任意地方匹配一个\n",
    "result3 = re.findall(pattern_compile, s2)  #从任意地方匹配所有，返回列表\n",
    "print(result1)\n",
    "print(result2)\n",
    "print(result3)"
   ]
  },
  {
   "cell_type": "markdown",
   "metadata": {},
   "source": [
    "# Match object 的方法"
   ]
  },
  {
   "cell_type": "markdown",
   "metadata": {},
   "source": [
    "## group"
   ]
  },
  {
   "cell_type": "code",
   "execution_count": 16,
   "metadata": {
    "ExecuteTime": {
     "end_time": "2021-01-23T02:29:24.055829Z",
     "start_time": "2021-01-23T02:29:24.049817Z"
    }
   },
   "outputs": [
    {
     "name": "stdout",
     "output_type": "stream",
     "text": [
      "我12345\n",
      "0\n",
      "6\n",
      "(0, 6)\n"
     ]
    }
   ],
   "source": [
    "s1 = '我12345+abcde'\n",
    "# pattern字符串前加 “ r ” 表示原生字符串\n",
    "pattern = r'\\w+'\n",
    "pattern_compile = re.compile(pattern)\n",
    "# 返回匹配的字符串\n",
    "result1 = re.match(pattern_compile, s1).group()\n",
    "# 返回匹配开始的位置\n",
    "result2 = re.match(pattern_compile, s1).start() \n",
    "# 返回匹配结束的位置\n",
    "result3 = re.match(pattern_compile, s1).end() \n",
    "# 返回一个元组包含匹配 (开始,结束) 的位置\n",
    "result4 = re.match(pattern_compile, s1).span() \n",
    "\n",
    "print(result1)\n",
    "print(result2)\n",
    "print(result3)\n",
    "print(result4)"
   ]
  },
  {
   "cell_type": "markdown",
   "metadata": {},
   "source": [
    "## 子组"
   ]
  },
  {
   "cell_type": "code",
   "execution_count": 19,
   "metadata": {
    "ExecuteTime": {
     "end_time": "2021-01-23T02:36:54.765040Z",
     "start_time": "2021-01-23T02:36:54.760089Z"
    }
   },
   "outputs": [
    {
     "name": "stdout",
     "output_type": "stream",
     "text": [
      "我12345+abcde\n",
      "我12345\n",
      "abcde\n"
     ]
    }
   ],
   "source": [
    "s1 = '我12345+abcde'\n",
    "# pattern字符串前加 “ r ” 表示原生字符串\n",
    "pattern = r'(\\w+)\\+(\\w+)'\n",
    "pattern_compile = re.compile(pattern)\n",
    "# 返回匹配的整个字符串\n",
    "result1 = re.match(pattern_compile, s1).group()\n",
    "# 返回匹配的第一个子组字符串\n",
    "result2 = re.match(pattern_compile, s1).group(1)\n",
    "# 返回匹配的第二个子组字符串\n",
    "result3 = re.match(pattern_compile, s1).group(2)   #例如在手机号码匹配时，可以单独提取出区号和手机号\n",
    "\n",
    "print(result1)\n",
    "print(result2)\n",
    "print(result3)"
   ]
  },
  {
   "cell_type": "code",
   "execution_count": 20,
   "metadata": {
    "ExecuteTime": {
     "end_time": "2021-01-23T02:37:11.597318Z",
     "start_time": "2021-01-23T02:37:11.589795Z"
    }
   },
   "outputs": [
    {
     "ename": "IndexError",
     "evalue": "no such group",
     "output_type": "error",
     "traceback": [
      "\u001b[1;31m---------------------------------------------------------------------------\u001b[0m",
      "\u001b[1;31mIndexError\u001b[0m                                Traceback (most recent call last)",
      "\u001b[1;32m<ipython-input-20-81f5dafafa5d>\u001b[0m in \u001b[0;36m<module>\u001b[1;34m\u001b[0m\n\u001b[1;32m----> 1\u001b[1;33m \u001b[0mresult4\u001b[0m \u001b[1;33m=\u001b[0m \u001b[0mre\u001b[0m\u001b[1;33m.\u001b[0m\u001b[0mmatch\u001b[0m\u001b[1;33m(\u001b[0m\u001b[0mpattern_compile\u001b[0m\u001b[1;33m,\u001b[0m \u001b[0ms1\u001b[0m\u001b[1;33m)\u001b[0m\u001b[1;33m.\u001b[0m\u001b[0mgroup\u001b[0m\u001b[1;33m(\u001b[0m\u001b[1;36m3\u001b[0m\u001b[1;33m)\u001b[0m\u001b[1;33m\u001b[0m\u001b[1;33m\u001b[0m\u001b[0m\n\u001b[0m",
      "\u001b[1;31mIndexError\u001b[0m: no such group"
     ]
    }
   ],
   "source": [
    "result4 = re.match(pattern_compile, s1).group(3)"
   ]
  },
  {
   "cell_type": "markdown",
   "metadata": {},
   "source": [
    "## groups()"
   ]
  },
  {
   "cell_type": "code",
   "execution_count": 21,
   "metadata": {
    "ExecuteTime": {
     "end_time": "2021-01-23T02:38:48.614414Z",
     "start_time": "2021-01-23T02:38:48.609396Z"
    }
   },
   "outputs": [
    {
     "name": "stdout",
     "output_type": "stream",
     "text": [
      "('我12345', 'abcde')\n"
     ]
    }
   ],
   "source": [
    "s1 = '我12345+abcde'\n",
    "# pattern字符串前加 “ r ” 表示原生字符串\n",
    "pattern = r'(\\w+)\\+(\\w+)'\n",
    "pattern_compile = re.compile(pattern)\n",
    "# 返回含有所有子组的元组\n",
    "result1 = re.search(pattern_compile, s1).groups()\n",
    "print(result1)"
   ]
  },
  {
   "cell_type": "markdown",
   "metadata": {},
   "source": [
    "# flag参数"
   ]
  },
  {
   "cell_type": "code",
   "execution_count": 22,
   "metadata": {
    "ExecuteTime": {
     "end_time": "2021-01-23T02:56:10.157117Z",
     "start_time": "2021-01-23T02:56:10.148154Z"
    }
   },
   "outputs": [
    {
     "name": "stdout",
     "output_type": "stream",
     "text": [
      "[('我12345', 'aBCde')]\n"
     ]
    }
   ],
   "source": [
    "s1 = '我12345+aBCde'\n",
    "# pattern字符串前加 “ r ” 表示原生字符串\n",
    "pattern = r'(\\w+)\\+(\\w+)'\n",
    "pattern_compile = re.compile(pattern, re.IGNORECASE)\n",
    "# 返回一个匹配的列表\n",
    "result1 = re.findall(pattern, s1)\n",
    "print(result1)"
   ]
  },
  {
   "cell_type": "code",
   "execution_count": 23,
   "metadata": {
    "ExecuteTime": {
     "end_time": "2021-01-23T02:56:44.984672Z",
     "start_time": "2021-01-23T02:56:44.981345Z"
    }
   },
   "outputs": [
    {
     "name": "stdout",
     "output_type": "stream",
     "text": [
      "[('我12345', 'aBCde')]\n"
     ]
    }
   ],
   "source": [
    "s1 = '我12345+aBCde'\n",
    "# pattern字符串前加 “ r ” 表示原生字符串\n",
    "pattern = r'(\\w+)\\+(\\w+)'\n",
    "# 返回一个匹配的列表\n",
    "result1 = re.findall(pattern, s1, re.IGNORECASE)\n",
    "print(result1)"
   ]
  },
  {
   "cell_type": "markdown",
   "metadata": {},
   "source": [
    "# 实战"
   ]
  },
  {
   "cell_type": "code",
   "execution_count": 75,
   "metadata": {
    "ExecuteTime": {
     "end_time": "2021-01-23T04:57:02.348024Z",
     "start_time": "2021-01-23T04:57:02.344881Z"
    }
   },
   "outputs": [],
   "source": [
    "import urllib"
   ]
  },
  {
   "cell_type": "code",
   "execution_count": 78,
   "metadata": {
    "ExecuteTime": {
     "end_time": "2021-01-23T04:57:17.359568Z",
     "start_time": "2021-01-23T04:57:17.112172Z"
    }
   },
   "outputs": [],
   "source": [
    "response_1 = urllib.request.urlopen('http://wsjk.ln.gov.cn/wst_wsjskx/index.html')\n",
    "html_1 = response_1.read().decode('gbk')"
   ]
  },
  {
   "cell_type": "code",
   "execution_count": 79,
   "metadata": {
    "ExecuteTime": {
     "end_time": "2021-01-23T04:57:17.379816Z",
     "start_time": "2021-01-23T04:57:17.374799Z"
    },
    "scrolled": true
   },
   "outputs": [
    {
     "name": "stdout",
     "output_type": "stream",
     "text": [
      "b'<!doctype html>\\n<html>\\n<head>\\n<meta charset=\"gb2312\">\\n<title>\\xc1\\xc9\\xc4\\xfe\\xca\\xa1\\xce\\xc0\\xc9\\xfa\\xbd\\xa1\\xbf\\xb5\\xce\\xaf\\xd4\\xb1\\xbb\\xe1</title>\\n<meta http-equiv=\"X-UA-Compatible\" content=\"IE=7,IE=9\" />\\n\\n<link rel=\"shortcut icon\" href=\"/favicon.ico\" />\\n<link rel=\"stylesheet\" type=\"text/css\" href=\"static_new/css/core.css\">\\n<link rel=\"stylesheet\" type=\"text/css\" href=\"../static_new/css/core.css\">\\n<script type=\"text/javascript\" src=\"../images/jquery-1.8.3.min.js\"></script>\\n<script type=\"text/javascript\" src=\"../static_new/js/owl.carousel.js\"></script>\\n<script type=\"text/javascript\" src=\"../static_new/js/L_slide.js\"></script>\\n<script src=\"../static_new/js/jquery_003.js\"></script>\\n<script type=\"text/javascript\">\\n$(function(){\\n\\t$(\\'#owl-demo\\').owlCarousel({\\n\\t\\titems: 1,\\n\\t\\tnavigation: true,\\n\\t\\tnavigationText: [\"\\xc9\\xcf\\xd2\\xbb\\xb8\\xf6\",\"\\xcf\\xc2\\xd2\\xbb\\xb8\\xf6\"],\\n\\t\\tautoPlay: true,\\n\\t\\tstopOnHover: true\\n\\t}).hover(function(){\\n\\t\\t$(\\'.owl-buttons\\').show();\\n\\t}, function(){\\n\\t\\t$(\\'.owl-buttons\\').hide();\\n\\t});\\n});\\n</script>\\n<script src=\"../static_new/js/texiao.js\"></script>\\n<style>\\n/** \\xb7\\xd6\\xd2\\xb3 page */\\n.page { height:34px; line-height:34px; padding-top:10px; padding-bottom:10px;  color:#555; text-align:center; overflow:hidden; font-size:12px; }\\n.page input{vertical-align:middle; border:1px solid #d4d4d4; padding:3px; text-align:center;}\\n.page input[type=\"button\"]{ cursor:pointer;}\\n.page a{  height:34px; line-height:34px; min-width:22px; text-align:center; border:1px solid #f0f0f0; background:#fff;}\\n.page a:link, .page a:visited,.page2 a.current{display:inline-block; *zoom:1; padding:2px 3px; color:#555; line-height:18px; height:18px;vertical-align:middle; font-family:\\'\\\\5FAE\\\\8F6F\\\\96C5\\\\9ED1\\',Tahoma, Geneva, sans-serif;}.page a:hover,.page2 a.current{ color:#fff; background:#368dd5;}\\n.page2 a{ margin-right:3px;}\\n\\n</style>\\n<body>\\n<!doctype html>\\n<html>\\n<head>\\n<meta charset=\"gb2312\">\\n<title>\\xc1\\xc9\\xc4\\xfe\\xca\\xa1\\xce\\xc0\\xc9\\xfa\\xbd\\xa1\\xbf\\xb5\\xce\\xaf\\xd4\\xb1\\xbb\\xe1</title>\\n<meta http-equiv=\"X-UA-Compatible\" content=\"IE=7,IE=9\" />\\n\\n<link rel=\"shortcut icon\" href=\"/favicon.ico\" />\\n<link rel=\"stylesheet\" type=\"text/css\" href=\"static_new/css/core.css\">\\n<link rel=\"stylesheet\" type=\"text/css\" href=\"../static_new/css/core.css\">\\n<script type=\"text/javascript\" src=\"../images/jquery-1.8.3.min.js\"></script>\\n<script type=\"text/javascript\" src=\"../static_new/js/owl.carousel.js\"></script>\\n<script type=\"text/javascript\" src=\"../static_new/js/L_slide.js\"></script>\\n<script src=\"../static_new/js/jquery_003.js\"></script>\\n<script type=\"text/javascript\">\\n$(function(){\\n\\t$(\\'#owl-demo\\').owlCarousel({\\n\\t\\titems: 1,\\n\\t\\tnavigation: true,\\n\\t\\tnavigationText: [\"\\xc9\\xcf\\xd2\\xbb\\xb8\\xf6\",\"\\xcf\\xc2\\xd2\\xbb\\xb8\\xf6\"],\\n\\t\\tautoPlay: true,\\n\\t\\tstopOnHover: true\\n\\t}).hover(function(){\\n\\t\\t$(\\'.owl-buttons\\').show();\\n\\t}, function(){\\n\\t\\t$(\\'.owl-buttons\\').hide();\\n\\t});\\n});\\n</script>\\n<script src=\"../static_new/js/texiao.js\"></script>\\n\\n<body>\\n<div class=\"top_bg\">\\n  <div class=\"header\">\\n    <div class=\"box\">\\n      <div class=\"genal-bg general-nav\">\\n        <div class=\"header-list-wrap\">\\n          <div class=\"genal-bg general-lngov\"><a href=\"http://www.ln.gov.cn/\" target=\"_blank\">\\xc1\\xc9\\xc4\\xfe\\xca\\xa1\\xc8\\xcb\\xc3\\xf1\\xd5\\xfe\\xb8\\xae</a></div>\\n          <ul class=\"general-menu\">\\n            <form name=\"frmSearch\" method=\"get\" action=\"http://www.ln.gov.cn/was5/web/search\" accept-charset=\"utf-8\" onsubmit=\"document.charset=\\'utf-8\\';\" target=\"_blank\">\\n              \\n              <li class=\"sp3\" style=\"margin-left:226px;\"><a href=\"http://mail.ln.gov.cn\" target=\"_blank\">\\xd3\\xca\\xcf\\xe4\\xcf\\xb5\\xcd\\xb3</a></li>\\n              <li class=\"sp4\"><a href=\"http://wcm.ln.gov.cn/wcm/app/login.jsp\" target=\"_blank\">\\xb1\\xa8\\xcb\\xcd\\xcf\\xb5\\xcd\\xb3</a></li>\\n            </form>\\n          </ul>\\n        </div>\\n      </div>\\n    </div>\\n   <div class=\"top_banner\">\\n   \\n      <div class=\"top_banner_img\">\\n        <div class=\"top_banner_wrap\" style=\"padding-top:50px;\">\\n        <style>\\n\\t\\t.wst-search{ width:320px; height:33px;padding-left:616px;}\\n\\t\\t.wst-search-txt{ width:234px; height:31px; border:1px solid #b3b2b0; border-radius:2px;}\\n\\t\\t.wst-search-btn{ width:84px; height:33px; border:none; background:#3277c2; font-size:14px; color:#FFF; border-radius:2px;}\\n\\t\\t</style>\\n        <div class=\"wst-search\">\\n        <form name=\"frmSearch\" method=\"get\" action=\"http://www.ln.gov.cn/was5/web/search\" accept-charset=\"utf-8\" onsubmit=\"avascript:return setSearchword(this);\" target=\"_blank\">\\n        <table width=\"100%\" border=\"0\">\\n  <tr>\\n    <td> <input class=\"txt wst-search-txt\" name=\"searchword\" type=\"text\" placeholder=\" \\xc7\\xeb\\xca\\xe4\\xc8\\xeb\\xb9\\xd8\\xbc\\xfc\\xd7\\xd6\" />\\n                    <input type=\"hidden\" name=\"channelid\" value=\"230711\" />\\n                    <!--\\xd0\\xe8\\xd0\\xde\\xb8\\xc4-->\\n                    <input type=\"hidden\" name=\"StringEncoding\" value=\"UTF-8\" /></td>\\n    <td> <input class=\"btn wst-search-btn\" name=\"button\" type=\"submit\" value=\"\\xcb\\xd1\\xcb\\xf7\" style=\"cursor:hand;\" /></td>\\n  </tr>\\n</table>\\n  </form>\\n        </div>\\n          <div class=\"nav\" style=\"padding-top:62px;\">\\n          <style type=\"text/css\">\\n/* common styling */\\n.menu { height:58px; position:relative; z-index:99999999999999   }\\n.menu ul {padding:0; margin:0; list-style-type: none;}\\n.menu ul li {float:left;   text-align:center;   display:block; color:#fff; height:58px; line-height:58px;}\\n.menu ul li a, .menu ul li a:visited {display:block; float:left;  text-decoration:none;  }\\n.menu ul li ul {display: none; font-size:14px; line-height:25px; float:left; padding:10px; overflow:hidden;}\\n.menu ul li ul li { height:25px; width:85px; line-height:25px; font-size:14px}\\nspan.leftywpd{ width:20px; height:75px; float:left; line-height:1.3; color:#014fa0; font-size:14px; padding:0px 10px; margin-right:10px; border-right:#d4d4d4 solid 1px;}\\n/* specific to non IE browsers */\\n.menu ul li:hover a {color:#fff;  }\\n.menu ul li:hover ul {display:block; position:absolute; width:960px; top:58px; left:0; background:#fff; color:#5e5e5e; border:#dfdfdf solid 1px;}\\n.menu ul li:hover ul li a.hide { color:#5e5e5e;}\\n.menu ul li:hover ul li:hover a.hide {   color:#5e5e5e;}\\n.menu ul li:hover ul li ul {display: none;}\\n.menu ul li:hover ul li a {display:block; background:#fff; color:#5e5e5e;}\\n.menu ul li:hover ul li a:hover {background:#fff; color:#000;}\\n</style>\\n<!--[if lte IE 6]>\\n<style type=\"text/css\">\\ntable {border-collapse:collapse; margin:0; padding:0;}\\nspan.leftywpd{ width:20px; height:75px; float:left; line-height:1.3; color:#014fa0; font-size:14px; padding:0px 10px; margin-right:10px; border:none;  }\\n\\n.menu ul li ul li {  width:85px; height:25px;line-height:25px; font-size:14px; overflow:hidden;}\\n.menu ul li a.hide, .menu ul li a:visited.hide {display:none;}\\n.menu ul li a:hover ul li a.hide {display:none;}\\n.menu ul li a, .menu ul li a:visited {}\\n.menu ul li a:hover {color:#fff;  }\\n.menu ul li a:hover ul {display:block; position:absolute; width:960px; top:58px; left:0; background:#fff; color:#5e5e5e; overflow:hidden;}\\n.menu ul li a:hover ul li a {display:block; background:#fff; color:#5e5e5e;height:25px;line-height:25px; }\\n.menu ul li a:hover ul li a ul {visibility:hidden; line-height:25px; }\\n.menu ul li a:hover ul li a:hover {background:#fff; color:#000;height:25px;line-height:25px; }\\n</style>\\n<![endif]-->\\n            <div class=\"menu\">\\n<ul>\\n<li><a class=\"hide\" href=\"/index.html\" target=\"_parent\">\\xcd\\xf8\\xd5\\xbe\\xca\\xd7\\xd2\\xb3</a>\\n<!--[if lte IE 6]>\\n<a href=\"/index.html\" target=\"_parent\">\\xca\\xd7\\xd2\\xb3\\n<table><tr><td>\\n<![endif]-->\\n\\n    \\n<!--[if lte IE 6]>\\n</td></tr></table>\\n</a>\\n<![endif]-->\\n</li>\\n<li><a class=\"hide\" href=\"/zfxxgk_146003/zfxxgkzn/\" target=\"_parent\">\\xd5\\xfe\\xb8\\xae\\xd0\\xc5\\xcf\\xa2\\xb9\\xab\\xbf\\xaa</a>\\n<!--[if lte IE 6]>\\n<a href=\"/zfxxgk_146003/zfxxgkzn/\" target=\"_parent\">\\xd5\\xfe\\xb8\\xae\\xd0\\xc5\\xcf\\xa2\\xb9\\xab\\xbf\\xaa\\n<table><tr><td>\\n<![endif]-->\\n\\n<!--[if lte IE 6]>\\n</td></tr></table>\\n</a>\\n<![endif]-->\\n</li>\\n<li><a class=\"hide\" href=\"/wst_xxgk/\" target=\"_parent\">\\xd0\\xc5\\xcf\\xa2\\xb9\\xab\\xbf\\xaa</a>\\n<!--[if lte IE 6]>\\n<a href=\"/wst_xxgk/\" target=\"_parent\">\\xd0\\xc5\\xcf\\xa2\\xb9\\xab\\xbf\\xaa\\n<table><tr><td>\\n<![endif]-->\\n    <ul style=\"width:960px; clear:both;\">\\n    <span class=\"leftywpd\">\\xd2\\xb5\\xce\\xf1\\xc6\\xb5\\xb5\\xc0</span>\\n    <li><a href=\"/wst_xxgk/wst_ywpd/wst_zhgl/\"  target=\"_parent\">\\xd7\\xdb\\xba\\xcf\\xb9\\xdc\\xc0\\xed</a></li>\\n    <li><a href=\"/wst_xxgk/wst_ywpd/wst_ghxx/\"  target=\"_parent\">\\xb9\\xe6\\xbb\\xae\\xd0\\xc5\\xcf\\xa2</a></li>\\n    <li><a href=\"/wst_xxgk/wst_ywpd/wst_cwgl/\"  target=\"_parent\">\\xb2\\xc6\\xce\\xf1\\xb9\\xdc\\xc0\\xed</a></li>\\n    <li><a href=\"/wst_xxgk/wst_ywpd/wst_fzjs/\" target=\"_parent\" >\\xb7\\xa8\\xd6\\xce\\xbd\\xa8\\xc9\\xe8</a></li>\\n    <li><a href=\"/wst_xxgk/wst_ywpd/wst_jjjc_136001/\" target=\"_parent\" >\\xd0\\xd0\\xd5\\xfe\\xc9\\xf3\\xc5\\xfa</a></li>\\n    <li><a href=\"/wst_xxgk/wst_ywpd/wst_tzgg/\" target=\"_parent\" >\\xcc\\xe5\\xd6\\xc6\\xb8\\xc4\\xb8\\xef</a></li>\\n    <li><a href=\"/wst_xxgk/wst_ywpd/wst_jbfk/\"  target=\"_parent\">\\xbc\\xb2\\xb2\\xa1\\xb7\\xc0\\xbf\\xd8</a></li>\\n    <li><a href=\"/wst_xxgk/wst_ywpd/wst_yzyg/\"  target=\"_parent\">\\xd2\\xbd\\xd5\\xfe\\xd2\\xbd\\xb9\\xdc</a></li>\\n    <li><a href=\"/wst_xxgk/wst_ywpd/wst_jcws/\"  target=\"_parent\">\\xbb\\xf9\\xb2\\xe3\\xce\\xc0\\xc9\\xfa</a></li>\\n    <li><a href=\"/wst_xxgk/wst_ywpd/wst_wsyj/\" target=\"_parent\" >\\xce\\xc0\\xc9\\xfa\\xd3\\xa6\\xbc\\xb1</a></li>\\n    <li><a href=\"/wst_xxgk/wst_ywpd/wst_jjjc_136002/\" target=\"_parent\" >\\xb0\\xb2\\xc8\\xab\\xc9\\xfa\\xb2\\xfa</a></li>\\n    <li><a href=\"/wst_xxgk/wst_ywpd/wst_kjjy/\"  target=\"_parent\">\\xbf\\xc6\\xbc\\xbc\\xbd\\xcc\\xd3\\xfd</a></li>\\n    <li><a href=\"/wst_xxgk/wst_ywpd/wst_zhjd/\" target=\"_parent\" >\\xd7\\xdb\\xba\\xcf\\xbc\\xe0\\xb6\\xbd</a></li>\\n    <li><a href=\"/wst_xxgk/wst_ywpd/wst_jjjc_136003/\" target=\"_parent\" >\\xd2\\xa9\\xd5\\xfe\\xb9\\xdc\\xc0\\xed</a></li>\\n    <li><a href=\"/wst_xxgk/wst_ywpd/wst_spaq/\" target=\"_parent\" >\\xca\\xb3\\xc6\\xb7\\xb0\\xb2\\xc8\\xab</a></li>\\n    <li><a href=\"/wst_xxgk/wst_ywpd/wst_jjjc_136004/\" target=\"_parent\" >\\xc0\\xcf\\xc1\\xe4\\xbd\\xa1\\xbf\\xb5</a></li>\\n    <li><a href=\"/wst_xxgk/wst_ywpd/wst_fyjk/\" target=\"_parent\" >\\xb8\\xbe\\xd3\\xd7\\xbd\\xa1\\xbf\\xb5</a></li>\\n    <li><a href=\"/wst_xxgk/wst_ywpd/wst_jjjc_136005/\" target=\"_parent\" >\\xd6\\xb0\\xd2\\xb5\\xbd\\xa1\\xbf\\xb5</a></li>\\n    <li><a href=\"/wst_xxgk/wst_ywpd/wst_jjjc_136006/\" target=\"_parent\" >\\xc8\\xcb\\xbf\\xda\\xbc\\xe0\\xb2\\xe2</a></li>\\n    <li><a href=\"/wst_xxgk/wst_ywpd/wst_jtfz/\"  target=\"_parent\">\\xbc\\xd2\\xcd\\xa5\\xb7\\xa2\\xd5\\xb9</a></li>\\n    <li><a href=\"/wst_xxgk/wst_ywpd/wst_jjjc_136007/\"  target=\"_parent\">\\xd0\\xfb\\xb4\\xab\\xbd\\xcc\\xd3\\xfd</a></li>\\n    <li><a href=\"/wst_xxgk/wst_ywpd/wst_zygl/\"  target=\"_parent\">\\xd6\\xd0\\xd2\\xbd\\xb9\\xdc\\xc0\\xed</a></li>\\n    <li><a href=\"/wst_xxgk/wst_ywpd/wst_jkcj/\"  target=\"_parent\">\\xb1\\xa3\\xbd\\xa1\\xbd\\xcc\\xd3\\xfd</a></li>\\n    <li><a href=\"/wst_xxgk/wst_ywpd/wst_rsgl/\"  target=\"_parent\">\\xc8\\xcb\\xca\\xc2\\xb9\\xdc\\xc0\\xed</a></li>\\n    <li><a href=\"/wst_xxgk/wst_ywpd/wst_jgdw/\"  target=\"_parent\">\\xbb\\xfa\\xb9\\xd8\\xb5\\xb3\\xce\\xaf</a></li>\\n    <li><a href=\"/wst_xxgk/wst_ywpd/wst_jjjc/\"  target=\"_parent\">\\xbc\\xcd\\xbc\\xec\\xbc\\xe0\\xb2\\xec</a></li>\\n    \\n    \\n    \\n    \\n    \\n    \\n    \\n\\n    </ul>\\n\\n</li>\\n<li><a class=\"hide\" href=\"/wst_hdjl/\" target=\"_parent\">\\xbb\\xa5\\xb6\\xaf\\xbd\\xbb\\xc1\\xf7</a>\\n<!--[if lte IE 6]>\\n<a href=\"/wst_hdjl/\" target=\"_parent\">\\xbb\\xa5\\xb6\\xaf\\xbd\\xbb\\xc1\\xf7\\n<table><tr><td>\\n<![endif]-->\\n\\n<!--[if lte IE 6]>\\n</td></tr></table>\\n</a>\\n<![endif]-->\\n</li>\\n<li><a class=\"hide\" href=\"/wst_xzzq/\" target=\"_parent\">\\xcf\\xc2\\xd4\\xd8\\xd7\\xa8\\xc7\\xf8</a>\\n<!--[if lte IE 6]>\\n<a href=\"/wst_xzzq/\" target=\"_parent\">\\xcf\\xc2\\xd4\\xd8\\xd7\\xa8\\xc7\\xf8\\n<table><tr><td>\\n<![endif]-->\\n\\n\\n<!--[if lte IE 6]>\\n</td></tr></table>\\n</a>\\n<![endif]-->\\n</li>\\n   <p style=\" float: left;margin-left: 57px;\"><a href=\"http://www.ln12320.cn/\"  target=\"_parent\" style=\"display:block;width:110px;height:58px;\">&nbsp;&nbsp;&nbsp;</a></p>\\n</ul>\\n</div>\\n          </div>\\n        </div>\\n      </div>\\n    </div>\\n  </div>\\n</div>\\n</body>\\n</html>\\n\\n<!-- no1 start  -->\\n\\n<div class=\"wst_ny_bg\">\\n\\t<div class=\"wst_ny_title\"><a href=\"../\" title=\"\\xca\\xd7\\xd2\\xb3\" class=\"CurrChnlCls\">\\xca\\xd7\\xd2\\xb3</a>&gt;<a href=\"./\" title=\"\\xce\\xc0\\xc9\\xfa\\xbd\\xa1\\xbf\\xb5\\xbf\\xec\\xd1\\xb6\" class=\"CurrChnlCls\">\\xce\\xc0\\xc9\\xfa\\xbd\\xa1\\xbf\\xb5\\xbf\\xec\\xd1\\xb6</a></div></div>\\n\\t<div class=\"wst_ny_bg1\">\\n\\t  <div class=\"wst_ny_con\">\\n    \\t<div class=\"jgsz_left\">\\n        \\n        \\t<ul>\\n            \\t<li><a href=\\'./\\' class=\"wskx_01\">\\xce\\xc0\\xc9\\xfa\\xbd\\xa1\\xbf\\xb5\\xbf\\xec\\xd1\\xb6</a></li>\\n            \\t<li><a href=\\'../wst_wjgg/\\' class=\"wskx_02\">\\xd5\\xfe\\xce\\xf1\\xb9\\xab\\xbf\\xaa</a></li>\\n            \\t<li><a href=\\'../wst_mtbb/\\' class=\"wskx_03\">\\xc3\\xbd\\xcc\\xe5\\xb2\\xa5\\xb1\\xa8</a></li>\\n            \\t<li><a href=\\'../wst_zcjd/\\' class=\"wskx_04\">\\xd5\\xfe\\xb2\\xdf\\xbd\\xe2\\xb6\\xc1</a></li>\\n\\t\\t<li><a href=\\'../wst_csdt/\\' class=\"wskx_05\">\\xb4\\xa6\\xca\\xd2\\xb6\\xaf\\xcc\\xac</a></li>\\n\\t\\t<li><a href=\\'../wjfc/\\' class=\"wskx_03\">\\xce\\xc0\\xbd\\xa1\\xb7\\xe7\\xb2\\xc9</a></li>\\n            \\t<li><a href=\\'../wst_sjdwdt/\\' class=\"wskx_06\">\\xca\\xa1\\xbc\\xb6\\xb5\\xa5\\xce\\xbb\\xb6\\xaf\\xcc\\xac</a></li>\\n            \\t<li><a href=\\'../wst_dfxx/\\' class=\"wskx_07\">\\xb5\\xd8\\xb7\\xbd\\xd0\\xc5\\xcf\\xa2</a></li>\\n            </ul>\\n        </div>\\n      <div class=\"jgsz_right\">\\n      \\t<div class=\"jgsz_right_title\">\\xce\\xc0\\xc9\\xfa\\xbd\\xa1\\xbf\\xb5\\xbf\\xec\\xd1\\xb6</div>\\n      \\t<div class=\"jgsz_right_con\">\\n        \\t<ul>\\n          \\n            <li>\\n              <a href=\"./202012/t20201231_4063814.html\" target=\"_blank\">2021\\xc4\\xea\\xd0\\xc2\\xc4\\xea\\xba\\xd8\\xb4\\xca</a>\\n              <span class=\"datetime\">\\n              12-31\\n              </span></li>\\n            <li>\\n              <a href=\"./202011/t20201113_4011790.html\" target=\"_blank\">\\xc9\\xee\\xc8\\xeb\\xb9\\xe1\\xb3\\xb9\\xc2\\xe4\\xca\\xb5\\xcf\\xb0\\xbd\\xfc\\xc6\\xbd\\xd7\\xdc\\xca\\xe9\\xbc\\xc7\\xd6\\xd8\\xd2\\xaa\\xd6\\xb8\\xca\\xbe\\xbe\\xab\\xc9\\xf1 \\xbd\\xf8\\xd2\\xbb\\xb2\\xbd\\xb2\\xbf\\xca\\xf0\\xb3\\xa3\\xcc\\xac\\xbb\\xaf\\xd2\\xdf\\xc7\\xe9\\xb7\\xc0\\xbf\\xd8\\xb9\\xa4\\xd7\\xf7</a>\\n              <span class=\"datetime\">\\n              11-13\\n              </span></li>\\n            <li>\\n              <a href=\"./202101/t20210111_4068147.html\" target=\"_blank\">\\xb5\\xda\\xc8\\xfd\\xc5\\xfa\\xd6\\xd0\\xb9\\xfa\\xa3\\xa8\\xc1\\xc9\\xc4\\xfe\\xa3\\xa9\\xd4\\xae\\xb8\\xd4\\xb1\\xc8\\xd1\\xc7\\xd2\\xbd\\xc1\\xc6\\xb6\\xd3\\xd4\\xb2\\xc2\\xfa\\xcd\\xea\\xb3\\xc9\\xd4\\xae\\xcd\\xe2\\xc8\\xce\\xce\\xf1\\xb0\\xb2\\xc8\\xab\\xb7\\xb5\\xbb\\xd8\\xc1\\xc9\\xc4\\xfe</a>\\n              <span class=\"datetime\">\\n              01-11\\n              </span></li>\\n            <li>\\n              <a href=\"./202101/t20210123_4074403.html\" target=\"_blank\">2021\\xc4\\xea1\\xd4\\xc222\\xc8\\xd512\\xca\\xb1\\xd6\\xc124\\xca\\xb1\\xc1\\xc9\\xc4\\xfe\\xd0\\xc2\\xd0\\xcd\\xb9\\xda\\xd7\\xb4\\xb2\\xa1\\xb6\\xbe\\xb7\\xce\\xd1\\xd7\\xd2\\xdf\\xc7\\xe9\\xc7\\xe9\\xbf\\xf6</a>\\n              <span class=\"datetime\">\\n              01-23\\n              </span></li>\\n            <li>\\n              <a href=\"./202101/t20210122_4074292.html\" target=\"_blank\">2021\\xc4\\xea1\\xd4\\xc222\\xc8\\xd50\\xca\\xb1\\xd6\\xc112\\xca\\xb1\\xc1\\xc9\\xc4\\xfe\\xd0\\xc2\\xd0\\xcd\\xb9\\xda\\xd7\\xb4\\xb2\\xa1\\xb6\\xbe\\xb7\\xce\\xd1\\xd7\\xd2\\xdf\\xc7\\xe9\\xc7\\xe9\\xbf\\xf6</a>\\n              <span class=\"datetime\">\\n              01-22\\n              </span></li>\\n            <li>\\n              <a href=\"./202101/t20210122_4073755.html\" target=\"_blank\">2021\\xc4\\xea1\\xd4\\xc221\\xc8\\xd512\\xca\\xb1\\xd6\\xc124\\xca\\xb1\\xc1\\xc9\\xc4\\xfe\\xd0\\xc2\\xd0\\xcd\\xb9\\xda\\xd7\\xb4\\xb2\\xa1\\xb6\\xbe\\xb7\\xce\\xd1\\xd7\\xd2\\xdf\\xc7\\xe9\\xc7\\xe9\\xbf\\xf6</a>\\n              <span class=\"datetime\">\\n              01-22\\n              </span></li>\\n            <li>\\n              <a href=\"./202101/t20210121_4073599.html\" target=\"_blank\">2021\\xc4\\xea1\\xd4\\xc221\\xc8\\xd50\\xca\\xb1\\xd6\\xc112\\xca\\xb1\\xc1\\xc9\\xc4\\xfe\\xd0\\xc2\\xd0\\xcd\\xb9\\xda\\xd7\\xb4\\xb2\\xa1\\xb6\\xbe\\xb7\\xce\\xd1\\xd7\\xd2\\xdf\\xc7\\xe9\\xc7\\xe9\\xbf\\xf6</a>\\n              <span class=\"datetime\">\\n              01-21\\n              </span></li>\\n            <li>\\n              <a href=\"./202101/t20210121_4073085.html\" target=\"_blank\">2021\\xc4\\xea1\\xd4\\xc220\\xc8\\xd512\\xca\\xb1\\xd6\\xc124\\xca\\xb1\\xc1\\xc9\\xc4\\xfe\\xd0\\xc2\\xd0\\xcd\\xb9\\xda\\xd7\\xb4\\xb2\\xa1\\xb6\\xbe\\xb7\\xce\\xd1\\xd7\\xd2\\xdf\\xc7\\xe9\\xc7\\xe9\\xbf\\xf6</a>\\n              <span class=\"datetime\">\\n              01-21\\n              </span></li>\\n            <li>\\n              <a href=\"./202101/t20210120_4072941.html\" target=\"_blank\">2021\\xc4\\xea1\\xd4\\xc220\\xc8\\xd50\\xca\\xb1\\xd6\\xc112\\xca\\xb1\\xc1\\xc9\\xc4\\xfe\\xd0\\xc2\\xd0\\xcd\\xb9\\xda\\xd7\\xb4\\xb2\\xa1\\xb6\\xbe\\xb7\\xce\\xd1\\xd7\\xd2\\xdf\\xc7\\xe9\\xc7\\xe9\\xbf\\xf6</a>\\n              <span class=\"datetime\">\\n              01-20\\n              </span></li>\\n            <li>\\n              <a href=\"./202101/t20210120_4072460.html\" target=\"_blank\">2021\\xc4\\xea1\\xd4\\xc219\\xc8\\xd512\\xca\\xb1\\xd6\\xc124\\xca\\xb1\\xc1\\xc9\\xc4\\xfe\\xd0\\xc2\\xd0\\xcd\\xb9\\xda\\xd7\\xb4\\xb2\\xa1\\xb6\\xbe\\xb7\\xce\\xd1\\xd7\\xd2\\xdf\\xc7\\xe9\\xc7\\xe9\\xbf\\xf6</a>\\n              <span class=\"datetime\">\\n              01-20\\n              </span></li>\\n            <li>\\n              <a href=\"./202101/t20210119_4072360.html\" target=\"_blank\">2021\\xc4\\xea1\\xd4\\xc219\\xc8\\xd50\\xca\\xb1\\xd6\\xc112\\xca\\xb1\\xc1\\xc9\\xc4\\xfe\\xd0\\xc2\\xd0\\xcd\\xb9\\xda\\xd7\\xb4\\xb2\\xa1\\xb6\\xbe\\xb7\\xce\\xd1\\xd7\\xd2\\xdf\\xc7\\xe9\\xc7\\xe9\\xbf\\xf6</a>\\n              <span class=\"datetime\">\\n              01-19\\n              </span></li>\\n            <li>\\n              <a href=\"./202101/t20210119_4071725.html\" target=\"_blank\">2021\\xc4\\xea1\\xd4\\xc218\\xc8\\xd512\\xca\\xb1\\xd6\\xc124\\xca\\xb1\\xc1\\xc9\\xc4\\xfe\\xd0\\xc2\\xd0\\xcd\\xb9\\xda\\xd7\\xb4\\xb2\\xa1\\xb6\\xbe\\xb7\\xce\\xd1\\xd7\\xd2\\xdf\\xc7\\xe9\\xc7\\xe9\\xbf\\xf6</a>\\n              <span class=\"datetime\">\\n              01-19\\n              </span></li>\\n            <li>\\n              <a href=\"./202101/t20210118_4071603.html\" target=\"_blank\">2021\\xc4\\xea1\\xd4\\xc218\\xc8\\xd50\\xca\\xb1\\xd6\\xc112\\xca\\xb1\\xc1\\xc9\\xc4\\xfe\\xd0\\xc2\\xd0\\xcd\\xb9\\xda\\xd7\\xb4\\xb2\\xa1\\xb6\\xbe\\xb7\\xce\\xd1\\xd7\\xd2\\xdf\\xc7\\xe9\\xc7\\xe9\\xbf\\xf6</a>\\n              <span class=\"datetime\">\\n              01-18\\n              </span></li>\\n            <li>\\n              <a href=\"./202101/t20210118_4071074.html\" target=\"_blank\">2021\\xc4\\xea1\\xd4\\xc217\\xc8\\xd512\\xca\\xb1\\xd6\\xc124\\xca\\xb1\\xc1\\xc9\\xc4\\xfe\\xd0\\xc2\\xd0\\xcd\\xb9\\xda\\xd7\\xb4\\xb2\\xa1\\xb6\\xbe\\xb7\\xce\\xd1\\xd7\\xd2\\xdf\\xc7\\xe9\\xc7\\xe9\\xbf\\xf6</a>\\n              <span class=\"datetime\">\\n              01-18\\n              </span></li>\\n            <li>\\n              <a href=\"./202101/t20210117_4071035.html\" target=\"_blank\">2021\\xc4\\xea1\\xd4\\xc217\\xc8\\xd50\\xca\\xb1\\xd6\\xc112\\xca\\xb1\\xc1\\xc9\\xc4\\xfe\\xd0\\xc2\\xd0\\xcd\\xb9\\xda\\xd7\\xb4\\xb2\\xa1\\xb6\\xbe\\xb7\\xce\\xd1\\xd7\\xd2\\xdf\\xc7\\xe9\\xc7\\xe9\\xbf\\xf6</a>\\n              <span class=\"datetime\">\\n              01-17\\n              </span></li>\\n            <li>\\n              <a href=\"./202101/t20210117_4071014.html\" target=\"_blank\">2021\\xc4\\xea1\\xd4\\xc216\\xc8\\xd512\\xca\\xb1\\xd6\\xc124\\xca\\xb1\\xc1\\xc9\\xc4\\xfe\\xd0\\xc2\\xd0\\xcd\\xb9\\xda\\xd7\\xb4\\xb2\\xa1\\xb6\\xbe\\xb7\\xce\\xd1\\xd7\\xd2\\xdf\\xc7\\xe9\\xc7\\xe9\\xbf\\xf6</a>\\n              <span class=\"datetime\">\\n              01-17\\n              </span></li>\\n            <li>\\n              <a href=\"./202101/t20210116_4070969.html\" target=\"_blank\">2021\\xc4\\xea1\\xd4\\xc216\\xc8\\xd50\\xca\\xb1\\xd6\\xc112\\xca\\xb1\\xc1\\xc9\\xc4\\xfe\\xd0\\xc2\\xd0\\xcd\\xb9\\xda\\xd7\\xb4\\xb2\\xa1\\xb6\\xbe\\xb7\\xce\\xd1\\xd7\\xd2\\xdf\\xc7\\xe9\\xc7\\xe9\\xbf\\xf6</a>\\n              <span class=\"datetime\">\\n              01-16\\n              </span></li>\\n            <li>\\n              <a href=\"./202101/t20210116_4070940.html\" target=\"_blank\">2021\\xc4\\xea1\\xd4\\xc215\\xc8\\xd512\\xca\\xb1\\xd6\\xc124\\xca\\xb1\\xc1\\xc9\\xc4\\xfe\\xd0\\xc2\\xd0\\xcd\\xb9\\xda\\xd7\\xb4\\xb2\\xa1\\xb6\\xbe\\xb7\\xce\\xd1\\xd7\\xd2\\xdf\\xc7\\xe9\\xc7\\xe9\\xbf\\xf6</a>\\n              <span class=\"datetime\">\\n              01-16\\n              </span></li>\\n            <li>\\n              <a href=\"./202101/t20210115_4070800.html\" target=\"_blank\">2021\\xc4\\xea1\\xd4\\xc215\\xc8\\xd50\\xca\\xb1\\xd6\\xc112\\xca\\xb1\\xc1\\xc9\\xc4\\xfe\\xd0\\xc2\\xd0\\xcd\\xb9\\xda\\xd7\\xb4\\xb2\\xa1\\xb6\\xbe\\xb7\\xce\\xd1\\xd7\\xd2\\xdf\\xc7\\xe9\\xc7\\xe9\\xbf\\xf6</a>\\n              <span class=\"datetime\">\\n              01-15\\n              </span></li>\\n            <li>\\n              <a href=\"./202101/t20210115_4070389.html\" target=\"_blank\">2021\\xc4\\xea1\\xd4\\xc214\\xc8\\xd512\\xca\\xb1\\xd6\\xc124\\xca\\xb1\\xc1\\xc9\\xc4\\xfe\\xd0\\xc2\\xd0\\xcd\\xb9\\xda\\xd7\\xb4\\xb2\\xa1\\xb6\\xbe\\xb7\\xce\\xd1\\xd7\\xd2\\xdf\\xc7\\xe9\\xc7\\xe9\\xbf\\xf6</a>\\n              <span class=\"datetime\">\\n              01-15\\n              </span></li>\\n            </ul>\\n            <!--  start:page  -->\\n        <div class=\"page page2\"><!--\\xd0\\xde\\xb8\\xc4\\xb7\\xd6\\xd2\\xb3\\xb1\\xe4\\xbb\\xbb\\xd1\\xf9\\xca\\xbd-->\\n<script language=\"JavaScript\" type=\"text/javascript\">\\n//createPageHTML(50, 0, \"index\", \"html\");\\nvar currentPage = 0;//\\xcb\\xf9\\xd4\\xda\\xd2\\xb3\\xb4\\xd30\\xbf\\xaa\\xca\\xbc\\n//var headPage = \"index\"+\".\"+\"html\";//\\xca\\xd7\\xd2\\xb3\\n//var tailPage = \"index_\" + (countPage-1) + \".html\"//\\xce\\xb2\\xd2\\xb3\\nvar prevPage = currentPage-1//\\xc9\\xcf\\xd2\\xbb\\xd2\\xb3\\nvar nextPage = currentPage+1//\\xcf\\xc2\\xd2\\xbb\\xd2\\xb3\\nvar countPage = 50//\\xb9\\xb2\\xb6\\xe0\\xc9\\xd9\\xd2\\xb3\\n\\ndocument.write(\"\\xb9\\xb2\"+countPage+\"\\xd2\\xb3&nbsp;&nbsp;\");\\n//\\xc9\\xe8\\xd6\\xc3\\xc9\\xcf\\xd2\\xbb\\xd2\\xb3\\xb4\\xfa\\xc2\\xeb\\nif(countPage>1&&currentPage!=0&&currentPage!=1)\\n\\tdocument.write(\"<a href=\\\\\"index.html\\\\\">\\xca\\xd7\\xd2\\xb3</a>&nbsp;<a href=\\\\\"index\"+\"_\" + prevPage + \".\"+\"html\\\\\">\\xc9\\xcf\\xd2\\xbb\\xd2\\xb3</a>&nbsp;\");\\nelse if(countPage>1&&currentPage!=0&&currentPage==1)\\n\\tdocument.write(\"<a href=\\\\\"index.html\\\\\">\\xca\\xd7\\xd2\\xb3</a>&nbsp;<a href=\\\\\"index.html\\\\\">\\xc9\\xcf\\xd2\\xbb\\xd2\\xb3</a>&nbsp;\");\\nelse\\n\\tdocument.write(\"\\xca\\xd7\\xd2\\xb3&nbsp;\\xc9\\xcf\\xd2\\xbb\\xd2\\xb3&nbsp;\");\\n//\\xd1\\xad\\xbb\\xb7\\nvar num = 5;\\nfor(var i=0+(currentPage-1-(currentPage-1)%num) ; i<=(num+(currentPage-1-(currentPage-1)%num))&&(i<countPage) ; i++){\\n\\tif(currentPage==i)\\n\\t\\tdocument.write(\"<a class=\\'current\\'>\"+(i+1)+\"</a>&nbsp;\");\\n\\telse if(i==0){\\n\\t\\tdocument.write(\"<a href=\\\\\"index.html\\\\\">\"+1+\"</a>&nbsp;\");\\n\\t}else \\n\\t\\tdocument.write(\"<a href=\\\\\"index\"+\"_\" + i + \".\"+\"html\\\\\">\"+(i+1)+\"</a>&nbsp;\");\\n}\\n//\\xc9\\xe8\\xd6\\xc3\\xcf\\xc2\\xd2\\xbb\\xd2\\xb3\\xb4\\xfa\\xc2\\xeb \\nif(countPage>1&&currentPage!=(countPage-1))\\n\\tdocument.write(\"<a href=\\\\\"index\"+\"_\" + nextPage + \".\"+\"html\\\\\">\\xcf\\xc2\\xd2\\xbb\\xd2\\xb3</a>&nbsp;<a href=\\\\\"index_\" + (countPage-1) + \".html\\\\\">\\xce\\xb2\\xd2\\xb3</a>&nbsp;\");\\nelse\\n\\tdocument.write(\"\\xcf\\xc2\\xd2\\xbb\\xd2\\xb3&nbsp;\\xce\\xb2\\xd2\\xb3&nbsp;\");\\n\\t\\n//\\xcc\\xf8\\xd7\\xaa\\xd2\\xb3\\xc3\\xe6\\ndocument.write(\"<font class=\\'zt9\\'>\\xd7\\xaa\\xb5\\xbd&nbsp;\\xb5\\xda<input type=\\'text\\' id=\\'num\\' value=\"+(currentPage+1)+\" style=\\'width:25px\\' />\\xd2\\xb3\"+\\n\\t\\t             \"&nbsp;<input type=\\'submit\\' value=\\'\\xcc\\xe1\\xbd\\xbb\\' onClick=javacript:toPage() /></font>\");\\nfunction toPage(){\\n\\tvar _num = document.getElementById(\"num\").value;\\n\\tvar str = \"index\"+\"_\"+(_num-1)+\".\"+\"html\";\\n\\tvar url = location.href.substring(0,location.href.lastIndexOf(\"/\")+1);\\n\\tif(_num<=1||_num==null)\\n\\t\\tlocation.href = url+\"index\"+\".\"+\"html\";\\n\\telse if(_num>countPage)\\n\\t\\talert(\"\\xb1\\xbe\\xc6\\xb5\\xb5\\xc0\\xd7\\xee\\xb6\\xe0\"+countPage+\"\\xd2\\xb3\");\\n\\telse\\n\\t\\tlocation.href = url+str;\\n}\\t\\n</script>\\n\\n        </div>\\n        <!-- end:page  --> \\n        </div>\\n        \\n        \\n        \\n        \\n        \\n        \\n      </div>\\n    </div>\\n    </div>\\n\\n \\n<!doctype html>\\n<html>\\n<head>\\n<meta charset=\"gb2312\">\\n<title>\\xc1\\xc9\\xc4\\xfe\\xca\\xa1\\xce\\xc0\\xc9\\xfa\\xbd\\xa1\\xbf\\xb5\\xce\\xaf\\xd4\\xb1\\xbb\\xe1</title>\\n<meta http-equiv=\"X-UA-Compatible\" content=\"IE=7,IE=9\" />\\n\\n<link rel=\"shortcut icon\" href=\"/favicon.ico\" />\\n<link rel=\"stylesheet\" type=\"text/css\" href=\"static_new/css/core.css\">\\n<link rel=\"stylesheet\" type=\"text/css\" href=\"../static_new/css/core.css\">\\n<style>\\n.footer_main ul li a:link,.footer_main ul li a:visited {\\n    color: #818181;\\n}\\n</style>\\n<body>\\n<!-- start: footer  -->\\n<div class=\"footer\" style=\"margin-top:0px;\">\\n  <div class=\"wrap\">\\n  <div class=\"footer_title\">\\xc1\\xc9\\xc4\\xfe\\xca\\xa1\\xce\\xc0\\xc9\\xfa\\xbd\\xa1\\xbf\\xb5\\xce\\xaf\\xd4\\xb1\\xbb\\xe1</div>\\n    <div class=\"footer_erweima\"><a href=\"http://bszs.conac.cn/sitename?method=show&id=207767E141A83C20E053022819AC222E\" target=\"_blank\"><img src=\"../images/dzjg.jpg\" width=\"51\" height=\"63\" /></a></div>\\n    <div class=\"footer_main\">\\n      <ul>\\n        <li><a  href=\"/index.html\" target=\"_parent\">\\xcd\\xf8\\xd5\\xbe\\xca\\xd7\\xd2\\xb3</a></li>\\n        <li> <a href=\"/wst_xxgk/\" target=\"_parent\">\\xd0\\xc5\\xcf\\xa2\\xb9\\xab\\xbf\\xaa</a></li>\\n        <li> <a href=\"/wst_ggfw/wst_gyfw/\" target=\"_parent\">\\xb9\\xab\\xd2\\xe6\\xb7\\xfe\\xce\\xf1</a></li>\\n        <li> <a href=\"/wst_hdjl/\" target=\"_parent\">\\xbb\\xa5\\xb6\\xaf\\xbd\\xbb\\xc1\\xf7</a></li>\\n        <li> <a href=\"/wst_ztzl/\" target=\"_parent\">\\xd7\\xa8\\xcc\\xe2\\xd7\\xa8\\xc0\\xb8</a></li>\\n        <li> <a href=\"/wst_gywm/\" target=\"_parent\">\\xb9\\xd8\\xd3\\xda\\xce\\xd2\\xc3\\xc7</a></li>\\n        <li> <a href=\"/wst_zzsm/\" target=\"_parent\">\\xd6\\xa3\\xd6\\xd8\\xc9\\xf9\\xc3\\xf7</a></li>\\n        <li> <a href=\"/wst_wzdt/\" target=\"_parent\">\\xcd\\xf8\\xd5\\xbe\\xb5\\xd8\\xcd\\xbc</a></li>\\n      </ul>\\n      <br/>\\n      \\xb1\\xbe\\xcd\\xf8\\xd5\\xbe\\xb8\\xf7\\xc0\\xe0\\xd0\\xc5\\xcf\\xa2\\xce\\xb4\\xbe\\xad\\xca\\xda\\xc8\\xa8\\xbd\\xfb\\xd6\\xb9\\xd7\\xaa\\xd4\\xd8    \\xc1\\xc9\\xc4\\xfe\\xca\\xa1\\xce\\xc0\\xc9\\xfa\\xbd\\xa1\\xbf\\xb5\\xce\\xaf\\xb0\\xe6\\xc8\\xa8\\xcb\\xf9\\xd3\\xd0    \\xb1\\xb8\\xb0\\xb8\\xb1\\xe0\\xba\\xc5\\xa3\\xba\\xc1\\xc9ICP\\xb1\\xb810204461\\xba\\xc5<br>  \\xcd\\xf8\\xd5\\xbe\\xb1\\xea\\xca\\xb6\\xc2\\xeb\\xa3\\xba2100000068</div>\\n      <div class=\"footer_fwl\" style=\"text-align:center;line-height:20px;\">\\n\\xb7\\xc3\\xce\\xca\\xc1\\xbf<br>\\n\\n<iframe frameborder=\"0\" scrolling=\"no\" src=\"http://218.60.144.36:4001/jsq.aspx\" width=\"186\" height=\"38\"></iframe>\\n\\n</div>\\n    <br style=\"clear:both;\"/>\\n    <div style=\"position:absolute;margin-top:-75px;margin-left:-150px;\"><script id=\"_jiucuo_\" sitecode=\\'2100000068\\' src=\\'../images/jiucuo.js\\'></script></div>\\n  </div>\\n</div>\\n<!-- end: footer  -->\\n</body>\\n</html>\\n</body>\\n</html>'\n"
     ]
    }
   ],
   "source": [
    "print(html_1)"
   ]
  },
  {
   "cell_type": "code",
   "execution_count": 72,
   "metadata": {
    "ExecuteTime": {
     "end_time": "2021-01-23T04:56:34.910668Z",
     "start_time": "2021-01-23T04:56:34.890700Z"
    },
    "scrolled": false
   },
   "outputs": [
    {
     "ename": "NameError",
     "evalue": "name 'heml_1' is not defined",
     "output_type": "error",
     "traceback": [
      "\u001b[1;31m---------------------------------------------------------------------------\u001b[0m",
      "\u001b[1;31mNameError\u001b[0m                                 Traceback (most recent call last)",
      "\u001b[1;32m<ipython-input-72-f75afbc1b4fa>\u001b[0m in \u001b[0;36m<module>\u001b[1;34m\u001b[0m\n\u001b[0;32m      1\u001b[0m \u001b[0mpattern\u001b[0m \u001b[1;33m=\u001b[0m \u001b[1;34mr'/\\d+/t\\d+_\\d+\\.html'\u001b[0m\u001b[1;33m\u001b[0m\u001b[1;33m\u001b[0m\u001b[0m\n\u001b[0;32m      2\u001b[0m \u001b[0mpattern_compile\u001b[0m \u001b[1;33m=\u001b[0m \u001b[0mre\u001b[0m\u001b[1;33m.\u001b[0m\u001b[0mcompile\u001b[0m\u001b[1;33m(\u001b[0m\u001b[0mpattern\u001b[0m\u001b[1;33m)\u001b[0m\u001b[1;33m\u001b[0m\u001b[1;33m\u001b[0m\u001b[0m\n\u001b[1;32m----> 3\u001b[1;33m \u001b[0mresult_1\u001b[0m \u001b[1;33m=\u001b[0m \u001b[0mre\u001b[0m\u001b[1;33m.\u001b[0m\u001b[0mfindall\u001b[0m\u001b[1;33m(\u001b[0m\u001b[0mpattern_compile\u001b[0m\u001b[1;33m,\u001b[0m\u001b[0mheml_1\u001b[0m\u001b[1;33m)\u001b[0m\u001b[1;33m\u001b[0m\u001b[1;33m\u001b[0m\u001b[0m\n\u001b[0m",
      "\u001b[1;31mNameError\u001b[0m: name 'heml_1' is not defined"
     ]
    }
   ],
   "source": [
    "pattern = r'/\\d+/t\\d+_\\d+\\.html'\n",
    "pattern_compile = re.compile(pattern)\n",
    "result_1 = re.findall(pattern_compile,heml_1)"
   ]
  },
  {
   "cell_type": "code",
   "execution_count": 65,
   "metadata": {
    "ExecuteTime": {
     "end_time": "2021-01-23T04:52:59.989280Z",
     "start_time": "2021-01-23T04:52:59.984264Z"
    }
   },
   "outputs": [
    {
     "data": {
      "text/plain": [
       "['/202012/t20201231_4063814.html',\n",
       " '/202011/t20201113_4011790.html',\n",
       " '/202101/t20210111_4068147.html',\n",
       " '/202101/t20210123_4074403.html',\n",
       " '/202101/t20210122_4074292.html',\n",
       " '/202101/t20210122_4073755.html',\n",
       " '/202101/t20210121_4073599.html',\n",
       " '/202101/t20210121_4073085.html',\n",
       " '/202101/t20210120_4072941.html',\n",
       " '/202101/t20210120_4072460.html',\n",
       " '/202101/t20210119_4072360.html',\n",
       " '/202101/t20210119_4071725.html',\n",
       " '/202101/t20210118_4071603.html',\n",
       " '/202101/t20210118_4071074.html',\n",
       " '/202101/t20210117_4071035.html',\n",
       " '/202101/t20210117_4071014.html',\n",
       " '/202101/t20210116_4070969.html',\n",
       " '/202101/t20210116_4070940.html',\n",
       " '/202101/t20210115_4070800.html',\n",
       " '/202101/t20210115_4070389.html']"
      ]
     },
     "execution_count": 65,
     "metadata": {},
     "output_type": "execute_result"
    }
   ],
   "source": [
    "result_1"
   ]
  },
  {
   "cell_type": "code",
   "execution_count": 66,
   "metadata": {
    "ExecuteTime": {
     "end_time": "2021-01-23T04:53:24.245858Z",
     "start_time": "2021-01-23T04:53:24.219618Z"
    }
   },
   "outputs": [],
   "source": [
    "url_list = []"
   ]
  },
  {
   "cell_type": "code",
   "execution_count": 67,
   "metadata": {
    "ExecuteTime": {
     "end_time": "2021-01-23T04:54:02.693011Z",
     "start_time": "2021-01-23T04:54:02.690887Z"
    }
   },
   "outputs": [],
   "source": [
    "for i in result_1:\n",
    "    url_list.append('http://wsjk.ln.gov.cn/wst_wsjskx'+i)"
   ]
  },
  {
   "cell_type": "code",
   "execution_count": 69,
   "metadata": {
    "ExecuteTime": {
     "end_time": "2021-01-23T04:54:23.210734Z",
     "start_time": "2021-01-23T04:54:23.206783Z"
    }
   },
   "outputs": [
    {
     "name": "stdout",
     "output_type": "stream",
     "text": [
      "http://wsjk.ln.gov.cn/wst_wsjskx/202012/t20201231_4063814.html\n",
      "http://wsjk.ln.gov.cn/wst_wsjskx/202011/t20201113_4011790.html\n",
      "http://wsjk.ln.gov.cn/wst_wsjskx/202101/t20210111_4068147.html\n",
      "http://wsjk.ln.gov.cn/wst_wsjskx/202101/t20210123_4074403.html\n",
      "http://wsjk.ln.gov.cn/wst_wsjskx/202101/t20210122_4074292.html\n",
      "http://wsjk.ln.gov.cn/wst_wsjskx/202101/t20210122_4073755.html\n",
      "http://wsjk.ln.gov.cn/wst_wsjskx/202101/t20210121_4073599.html\n",
      "http://wsjk.ln.gov.cn/wst_wsjskx/202101/t20210121_4073085.html\n",
      "http://wsjk.ln.gov.cn/wst_wsjskx/202101/t20210120_4072941.html\n",
      "http://wsjk.ln.gov.cn/wst_wsjskx/202101/t20210120_4072460.html\n",
      "http://wsjk.ln.gov.cn/wst_wsjskx/202101/t20210119_4072360.html\n",
      "http://wsjk.ln.gov.cn/wst_wsjskx/202101/t20210119_4071725.html\n",
      "http://wsjk.ln.gov.cn/wst_wsjskx/202101/t20210118_4071603.html\n",
      "http://wsjk.ln.gov.cn/wst_wsjskx/202101/t20210118_4071074.html\n",
      "http://wsjk.ln.gov.cn/wst_wsjskx/202101/t20210117_4071035.html\n",
      "http://wsjk.ln.gov.cn/wst_wsjskx/202101/t20210117_4071014.html\n",
      "http://wsjk.ln.gov.cn/wst_wsjskx/202101/t20210116_4070969.html\n",
      "http://wsjk.ln.gov.cn/wst_wsjskx/202101/t20210116_4070940.html\n",
      "http://wsjk.ln.gov.cn/wst_wsjskx/202101/t20210115_4070800.html\n",
      "http://wsjk.ln.gov.cn/wst_wsjskx/202101/t20210115_4070389.html\n"
     ]
    }
   ],
   "source": [
    "for i in url_list:\n",
    "    print(i)"
   ]
  },
  {
   "cell_type": "code",
   "execution_count": null,
   "metadata": {},
   "outputs": [],
   "source": []
  }
 ],
 "metadata": {
  "kernelspec": {
   "display_name": "Python 3",
   "language": "python",
   "name": "python3"
  },
  "language_info": {
   "codemirror_mode": {
    "name": "ipython",
    "version": 3
   },
   "file_extension": ".py",
   "mimetype": "text/x-python",
   "name": "python",
   "nbconvert_exporter": "python",
   "pygments_lexer": "ipython3",
   "version": "3.8.5"
  },
  "toc": {
   "base_numbering": 1,
   "nav_menu": {},
   "number_sections": true,
   "sideBar": true,
   "skip_h1_title": false,
   "title_cell": "Table of Contents",
   "title_sidebar": "Contents",
   "toc_cell": false,
   "toc_position": {},
   "toc_section_display": true,
   "toc_window_display": false
  },
  "varInspector": {
   "cols": {
    "lenName": 16,
    "lenType": 16,
    "lenVar": 40
   },
   "kernels_config": {
    "python": {
     "delete_cmd_postfix": "",
     "delete_cmd_prefix": "del ",
     "library": "var_list.py",
     "varRefreshCmd": "print(var_dic_list())"
    },
    "r": {
     "delete_cmd_postfix": ") ",
     "delete_cmd_prefix": "rm(",
     "library": "var_list.r",
     "varRefreshCmd": "cat(var_dic_list()) "
    }
   },
   "types_to_exclude": [
    "module",
    "function",
    "builtin_function_or_method",
    "instance",
    "_Feature"
   ],
   "window_display": false
  }
 },
 "nbformat": 4,
 "nbformat_minor": 4
}
