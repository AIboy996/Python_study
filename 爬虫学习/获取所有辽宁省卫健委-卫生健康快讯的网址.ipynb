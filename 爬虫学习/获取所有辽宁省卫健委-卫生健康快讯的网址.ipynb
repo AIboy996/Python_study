{
 "cells": [
  {
   "cell_type": "code",
   "execution_count": 1,
   "metadata": {
    "ExecuteTime": {
     "end_time": "2021-01-23T05:41:05.440677Z",
     "start_time": "2021-01-23T05:41:05.435686Z"
    }
   },
   "outputs": [],
   "source": [
    "import urllib,re"
   ]
  },
  {
   "cell_type": "code",
   "execution_count": 2,
   "metadata": {
    "ExecuteTime": {
     "end_time": "2021-01-23T05:41:05.448656Z",
     "start_time": "2021-01-23T05:41:05.443666Z"
    }
   },
   "outputs": [],
   "source": [
    "index_list = ['http://wsjk.ln.gov.cn/wst_wsjskx/index.html']"
   ]
  },
  {
   "cell_type": "code",
   "execution_count": 3,
   "metadata": {
    "ExecuteTime": {
     "end_time": "2021-01-23T05:41:05.457629Z",
     "start_time": "2021-01-23T05:41:05.452642Z"
    }
   },
   "outputs": [],
   "source": [
    "for i in range(1,3):\n",
    "    index_list .append('http://wsjk.ln.gov.cn/wst_wsjskx/index_%d.html'%i)   #获取所有目录页面的网址"
   ]
  },
  {
   "cell_type": "code",
   "execution_count": 4,
   "metadata": {
    "ExecuteTime": {
     "end_time": "2021-01-23T05:41:05.464609Z",
     "start_time": "2021-01-23T05:41:05.460623Z"
    }
   },
   "outputs": [],
   "source": [
    "html_dict = {}"
   ]
  },
  {
   "cell_type": "code",
   "execution_count": 5,
   "metadata": {
    "ExecuteTime": {
     "end_time": "2021-01-23T05:41:06.334033Z",
     "start_time": "2021-01-23T05:41:05.466605Z"
    }
   },
   "outputs": [],
   "source": [
    "for i in index_list:\n",
    "    html_dict[i] = urllib.request.urlopen(i).read().decode('gbk')    #获取所有目录页面的html文件"
   ]
  },
  {
   "cell_type": "code",
   "execution_count": 6,
   "metadata": {
    "ExecuteTime": {
     "end_time": "2021-01-23T05:41:06.339009Z",
     "start_time": "2021-01-23T05:41:06.334993Z"
    }
   },
   "outputs": [],
   "source": [
    "pattern = r'/\\d+/t\\d+_\\d+\\.html'\n",
    "pattern_compile = re.compile(pattern)"
   ]
  },
  {
   "cell_type": "code",
   "execution_count": 7,
   "metadata": {
    "ExecuteTime": {
     "end_time": "2021-01-23T05:41:06.352561Z",
     "start_time": "2021-01-23T05:41:06.341976Z"
    }
   },
   "outputs": [],
   "source": [
    "url_list = []"
   ]
  },
  {
   "cell_type": "code",
   "execution_count": 8,
   "metadata": {
    "ExecuteTime": {
     "end_time": "2021-01-23T05:41:06.360535Z",
     "start_time": "2021-01-23T05:41:06.355547Z"
    },
    "scrolled": true
   },
   "outputs": [],
   "source": [
    "for i in html_dict.values():\n",
    "    url_list += re.findall(pattern_compile,i)    #re匹配所有新闻页面的网址"
   ]
  },
  {
   "cell_type": "code",
   "execution_count": 9,
   "metadata": {
    "ExecuteTime": {
     "end_time": "2021-01-23T05:41:06.370536Z",
     "start_time": "2021-01-23T05:41:06.362527Z"
    }
   },
   "outputs": [],
   "source": [
    "news_dict = {}"
   ]
  },
  {
   "cell_type": "code",
   "execution_count": 10,
   "metadata": {
    "ExecuteTime": {
     "end_time": "2021-01-23T05:41:19.969780Z",
     "start_time": "2021-01-23T05:41:06.372500Z"
    },
    "scrolled": false
   },
   "outputs": [],
   "source": [
    "for i in url_list:\n",
    "    news_dict[i] = urllib.request.urlopen('http://wsjk.ln.gov.cn/wst_wsjskx'+i).read().decode('gbk')  #所有新闻页面的html文件"
   ]
  },
  {
   "cell_type": "code",
   "execution_count": 11,
   "metadata": {
    "ExecuteTime": {
     "end_time": "2021-01-23T05:41:19.973715Z",
     "start_time": "2021-01-23T05:41:19.970761Z"
    },
    "scrolled": true
   },
   "outputs": [],
   "source": [
    "pattern_1 = r'<h1\\sstyle=\\\"font-size:28px.+'\n",
    "pattern_1_compile = re.compile(pattern_1)"
   ]
  },
  {
   "cell_type": "code",
   "execution_count": 12,
   "metadata": {
    "ExecuteTime": {
     "end_time": "2021-01-23T05:41:19.990703Z",
     "start_time": "2021-01-23T05:41:19.975711Z"
    }
   },
   "outputs": [],
   "source": [
    "for i in url_list:\n",
    "    title = re.search(pattern_1_compile,news_dict[i]).group()\n",
    "    news_dict[title] =news_dict.pop(i)"
   ]
  },
  {
   "cell_type": "code",
   "execution_count": 17,
   "metadata": {
    "ExecuteTime": {
     "end_time": "2021-01-23T05:46:00.780026Z",
     "start_time": "2021-01-23T05:46:00.776037Z"
    },
    "scrolled": false
   },
   "outputs": [
    {
     "name": "stdout",
     "output_type": "stream",
     "text": [
      "<!doctype html>\n",
      "<html>\n",
      "<head>\n",
      "<meta charset=\"gb2312\">\n",
      "<title>辽宁省卫生健康委员会</title>\n",
      "<meta http-equiv=\"X-UA-Compatible\" content=\"IE=7,IE=9\" />\n",
      "<meta name=\"Keywords\" content=\"辽宁省卫生健康委员会\" />\n",
      "<meta name=\"Description\" content=\"辽宁省卫生健康委员会\" />\n",
      "<link rel=\"shortcut icon\" href=\"/favicon.ico\" />\n",
      "<link rel=\"stylesheet\" type=\"text/css\" href=\"static_new/css/core.css\">\n",
      "<link rel=\"stylesheet\" type=\"text/css\" href=\"../../static_new/css/core.css\">\n",
      "<script type=\"text/javascript\" src=\"../../images/jquery-1.8.3.min.js\"></script>\n",
      "<script type=\"text/javascript\" src=\"../../static_new/js/owl.carousel.js\"></script>\n",
      "<script type=\"text/javascript\" src=\"../../static_new/js/L_slide.js\"></script>\n",
      "<script src=\"../../static_new/js/jquery_003.js\"></script>\n",
      "<script type=\"text/javascript\">\n",
      "$(function(){\n",
      "\t$('#owl-demo').owlCarousel({\n",
      "\t\titems: 1,\n",
      "\t\tnavigation: true,\n",
      "\t\tnavigationText: [\"上一个\",\"下一个\"],\n",
      "\t\tautoPlay: true,\n",
      "\t\tstopOnHover: true\n",
      "\t}).hover(function(){\n",
      "\t\t$('.owl-buttons').show();\n",
      "\t}, function(){\n",
      "\t\t$('.owl-buttons').hide();\n",
      "\t});\n",
      "});\n",
      "</script>\n",
      "<script src=\"../../static_new/js/texiao.js\"></script>\n",
      "<body>\n",
      "<!doctype html>\n",
      "<html>\n",
      "<head>\n",
      "<meta charset=\"gb2312\">\n",
      "<title>辽宁省卫生健康委员会</title>\n",
      "<meta http-equiv=\"X-UA-Compatible\" content=\"IE=7,IE=9\" />\n",
      "\n",
      "<link rel=\"shortcut icon\" href=\"/favicon.ico\" />\n",
      "<link rel=\"stylesheet\" type=\"text/css\" href=\"static_new/css/core.css\">\n",
      "<link rel=\"stylesheet\" type=\"text/css\" href=\"../../static_new/css/core.css\">\n",
      "<script type=\"text/javascript\" src=\"../../images/jquery-1.8.3.min.js\"></script>\n",
      "<script type=\"text/javascript\" src=\"../../static_new/js/owl.carousel.js\"></script>\n",
      "<script type=\"text/javascript\" src=\"../../static_new/js/L_slide.js\"></script>\n",
      "<script src=\"../../static_new/js/jquery_003.js\"></script>\n",
      "<script type=\"text/javascript\">\n",
      "$(function(){\n",
      "\t$('#owl-demo').owlCarousel({\n",
      "\t\titems: 1,\n",
      "\t\tnavigation: true,\n",
      "\t\tnavigationText: [\"上一个\",\"下一个\"],\n",
      "\t\tautoPlay: true,\n",
      "\t\tstopOnHover: true\n",
      "\t}).hover(function(){\n",
      "\t\t$('.owl-buttons').show();\n",
      "\t}, function(){\n",
      "\t\t$('.owl-buttons').hide();\n",
      "\t});\n",
      "});\n",
      "</script>\n",
      "<script src=\"../../static_new/js/texiao.js\"></script>\n",
      "\n",
      "<body>\n",
      "<div class=\"top_bg\">\n",
      "  <div class=\"header\">\n",
      "    <div class=\"box\">\n",
      "      <div class=\"genal-bg general-nav\">\n",
      "        <div class=\"header-list-wrap\">\n",
      "          <div class=\"genal-bg general-lngov\"><a href=\"http://www.ln.gov.cn/\" target=\"_blank\">辽宁省人民政府</a></div>\n",
      "          <ul class=\"general-menu\">\n",
      "            <form name=\"frmSearch\" method=\"get\" action=\"http://www.ln.gov.cn/was5/web/search\" accept-charset=\"utf-8\" onsubmit=\"document.charset='utf-8';\" target=\"_blank\">\n",
      "              \n",
      "              <li class=\"sp3\" style=\"margin-left:226px;\"><a href=\"http://mail.ln.gov.cn\" target=\"_blank\">邮箱系统</a></li>\n",
      "              <li class=\"sp4\"><a href=\"http://wcm.ln.gov.cn/wcm/app/login.jsp\" target=\"_blank\">报送系统</a></li>\n",
      "            </form>\n",
      "          </ul>\n",
      "        </div>\n",
      "      </div>\n",
      "    </div>\n",
      "   <div class=\"top_banner\">\n",
      "   \n",
      "      <div class=\"top_banner_img\">\n",
      "        <div class=\"top_banner_wrap\" style=\"padding-top:50px;\">\n",
      "        <style>\n",
      "\t\t.wst-search{ width:320px; height:33px;padding-left:616px;}\n",
      "\t\t.wst-search-txt{ width:234px; height:31px; border:1px solid #b3b2b0; border-radius:2px;}\n",
      "\t\t.wst-search-btn{ width:84px; height:33px; border:none; background:#3277c2; font-size:14px; color:#FFF; border-radius:2px;}\n",
      "\t\t</style>\n",
      "        <div class=\"wst-search\">\n",
      "        <form name=\"frmSearch\" method=\"get\" action=\"http://www.ln.gov.cn/was5/web/search\" accept-charset=\"utf-8\" onsubmit=\"avascript:return setSearchword(this);\" target=\"_blank\">\n",
      "        <table width=\"100%\" border=\"0\">\n",
      "  <tr>\n",
      "    <td> <input class=\"txt wst-search-txt\" name=\"searchword\" type=\"text\" placeholder=\" 请输入关键字\" />\n",
      "                    <input type=\"hidden\" name=\"channelid\" value=\"230711\" />\n",
      "                    <!--需修改-->\n",
      "                    <input type=\"hidden\" name=\"StringEncoding\" value=\"UTF-8\" /></td>\n",
      "    <td> <input class=\"btn wst-search-btn\" name=\"button\" type=\"submit\" value=\"搜索\" style=\"cursor:hand;\" /></td>\n",
      "  </tr>\n",
      "</table>\n",
      "  </form>\n",
      "        </div>\n",
      "          <div class=\"nav\" style=\"padding-top:62px;\">\n",
      "          <style type=\"text/css\">\n",
      "/* common styling */\n",
      ".menu { height:58px; position:relative; z-index:99999999999999   }\n",
      ".menu ul {padding:0; margin:0; list-style-type: none;}\n",
      ".menu ul li {float:left;   text-align:center;   display:block; color:#fff; height:58px; line-height:58px;}\n",
      ".menu ul li a, .menu ul li a:visited {display:block; float:left;  text-decoration:none;  }\n",
      ".menu ul li ul {display: none; font-size:14px; line-height:25px; float:left; padding:10px; overflow:hidden;}\n",
      ".menu ul li ul li { height:25px; width:85px; line-height:25px; font-size:14px}\n",
      "span.leftywpd{ width:20px; height:75px; float:left; line-height:1.3; color:#014fa0; font-size:14px; padding:0px 10px; margin-right:10px; border-right:#d4d4d4 solid 1px;}\n",
      "/* specific to non IE browsers */\n",
      ".menu ul li:hover a {color:#fff;  }\n",
      ".menu ul li:hover ul {display:block; position:absolute; width:960px; top:58px; left:0; background:#fff; color:#5e5e5e; border:#dfdfdf solid 1px;}\n",
      ".menu ul li:hover ul li a.hide { color:#5e5e5e;}\n",
      ".menu ul li:hover ul li:hover a.hide {   color:#5e5e5e;}\n",
      ".menu ul li:hover ul li ul {display: none;}\n",
      ".menu ul li:hover ul li a {display:block; background:#fff; color:#5e5e5e;}\n",
      ".menu ul li:hover ul li a:hover {background:#fff; color:#000;}\n",
      "</style>\n",
      "<!--[if lte IE 6]>\n",
      "<style type=\"text/css\">\n",
      "table {border-collapse:collapse; margin:0; padding:0;}\n",
      "span.leftywpd{ width:20px; height:75px; float:left; line-height:1.3; color:#014fa0; font-size:14px; padding:0px 10px; margin-right:10px; border:none;  }\n",
      "\n",
      ".menu ul li ul li {  width:85px; height:25px;line-height:25px; font-size:14px; overflow:hidden;}\n",
      ".menu ul li a.hide, .menu ul li a:visited.hide {display:none;}\n",
      ".menu ul li a:hover ul li a.hide {display:none;}\n",
      ".menu ul li a, .menu ul li a:visited {}\n",
      ".menu ul li a:hover {color:#fff;  }\n",
      ".menu ul li a:hover ul {display:block; position:absolute; width:960px; top:58px; left:0; background:#fff; color:#5e5e5e; overflow:hidden;}\n",
      ".menu ul li a:hover ul li a {display:block; background:#fff; color:#5e5e5e;height:25px;line-height:25px; }\n",
      ".menu ul li a:hover ul li a ul {visibility:hidden; line-height:25px; }\n",
      ".menu ul li a:hover ul li a:hover {background:#fff; color:#000;height:25px;line-height:25px; }\n",
      "</style>\n",
      "<![endif]-->\n",
      "            <div class=\"menu\">\n",
      "<ul>\n",
      "<li><a class=\"hide\" href=\"/index.html\" target=\"_parent\">网站首页</a>\n",
      "<!--[if lte IE 6]>\n",
      "<a href=\"/index.html\" target=\"_parent\">首页\n",
      "<table><tr><td>\n",
      "<![endif]-->\n",
      "\n",
      "    \n",
      "<!--[if lte IE 6]>\n",
      "</td></tr></table>\n",
      "</a>\n",
      "<![endif]-->\n",
      "</li>\n",
      "<li><a class=\"hide\" href=\"/zfxxgk_146003/zfxxgkzn/\" target=\"_parent\">政府信息公开</a>\n",
      "<!--[if lte IE 6]>\n",
      "<a href=\"/zfxxgk_146003/zfxxgkzn/\" target=\"_parent\">政府信息公开\n",
      "<table><tr><td>\n",
      "<![endif]-->\n",
      "\n",
      "<!--[if lte IE 6]>\n",
      "</td></tr></table>\n",
      "</a>\n",
      "<![endif]-->\n",
      "</li>\n",
      "<li><a class=\"hide\" href=\"/wst_xxgk/\" target=\"_parent\">信息公开</a>\n",
      "<!--[if lte IE 6]>\n",
      "<a href=\"/wst_xxgk/\" target=\"_parent\">信息公开\n",
      "<table><tr><td>\n",
      "<![endif]-->\n",
      "    <ul style=\"width:960px; clear:both;\">\n",
      "    <span class=\"leftywpd\">业务频道</span>\n",
      "    <li><a href=\"/wst_xxgk/wst_ywpd/wst_zhgl/\"  target=\"_parent\">综合管理</a></li>\n",
      "    <li><a href=\"/wst_xxgk/wst_ywpd/wst_ghxx/\"  target=\"_parent\">规划信息</a></li>\n",
      "    <li><a href=\"/wst_xxgk/wst_ywpd/wst_cwgl/\"  target=\"_parent\">财务管理</a></li>\n",
      "    <li><a href=\"/wst_xxgk/wst_ywpd/wst_fzjs/\" target=\"_parent\" >法治建设</a></li>\n",
      "    <li><a href=\"/wst_xxgk/wst_ywpd/wst_jjjc_136001/\" target=\"_parent\" >行政审批</a></li>\n",
      "    <li><a href=\"/wst_xxgk/wst_ywpd/wst_tzgg/\" target=\"_parent\" >体制改革</a></li>\n",
      "    <li><a href=\"/wst_xxgk/wst_ywpd/wst_jbfk/\"  target=\"_parent\">疾病防控</a></li>\n",
      "    <li><a href=\"/wst_xxgk/wst_ywpd/wst_yzyg/\"  target=\"_parent\">医政医管</a></li>\n",
      "    <li><a href=\"/wst_xxgk/wst_ywpd/wst_jcws/\"  target=\"_parent\">基层卫生</a></li>\n",
      "    <li><a href=\"/wst_xxgk/wst_ywpd/wst_wsyj/\" target=\"_parent\" >卫生应急</a></li>\n",
      "    <li><a href=\"/wst_xxgk/wst_ywpd/wst_jjjc_136002/\" target=\"_parent\" >安全生产</a></li>\n",
      "    <li><a href=\"/wst_xxgk/wst_ywpd/wst_kjjy/\"  target=\"_parent\">科技教育</a></li>\n",
      "    <li><a href=\"/wst_xxgk/wst_ywpd/wst_zhjd/\" target=\"_parent\" >综合监督</a></li>\n",
      "    <li><a href=\"/wst_xxgk/wst_ywpd/wst_jjjc_136003/\" target=\"_parent\" >药政管理</a></li>\n",
      "    <li><a href=\"/wst_xxgk/wst_ywpd/wst_spaq/\" target=\"_parent\" >食品安全</a></li>\n",
      "    <li><a href=\"/wst_xxgk/wst_ywpd/wst_jjjc_136004/\" target=\"_parent\" >老龄健康</a></li>\n",
      "    <li><a href=\"/wst_xxgk/wst_ywpd/wst_fyjk/\" target=\"_parent\" >妇幼健康</a></li>\n",
      "    <li><a href=\"/wst_xxgk/wst_ywpd/wst_jjjc_136005/\" target=\"_parent\" >职业健康</a></li>\n",
      "    <li><a href=\"/wst_xxgk/wst_ywpd/wst_jjjc_136006/\" target=\"_parent\" >人口监测</a></li>\n",
      "    <li><a href=\"/wst_xxgk/wst_ywpd/wst_jtfz/\"  target=\"_parent\">家庭发展</a></li>\n",
      "    <li><a href=\"/wst_xxgk/wst_ywpd/wst_jjjc_136007/\"  target=\"_parent\">宣传教育</a></li>\n",
      "    <li><a href=\"/wst_xxgk/wst_ywpd/wst_zygl/\"  target=\"_parent\">中医管理</a></li>\n",
      "    <li><a href=\"/wst_xxgk/wst_ywpd/wst_jkcj/\"  target=\"_parent\">保健教育</a></li>\n",
      "    <li><a href=\"/wst_xxgk/wst_ywpd/wst_rsgl/\"  target=\"_parent\">人事管理</a></li>\n",
      "    <li><a href=\"/wst_xxgk/wst_ywpd/wst_jgdw/\"  target=\"_parent\">机关党委</a></li>\n",
      "    <li><a href=\"/wst_xxgk/wst_ywpd/wst_jjjc/\"  target=\"_parent\">纪检监察</a></li>\n",
      "    \n",
      "    \n",
      "    \n",
      "    \n",
      "    \n",
      "    \n",
      "    \n",
      "\n",
      "    </ul>\n",
      "\n",
      "</li>\n",
      "<li><a class=\"hide\" href=\"/wst_hdjl/\" target=\"_parent\">互动交流</a>\n",
      "<!--[if lte IE 6]>\n",
      "<a href=\"/wst_hdjl/\" target=\"_parent\">互动交流\n",
      "<table><tr><td>\n",
      "<![endif]-->\n",
      "\n",
      "<!--[if lte IE 6]>\n",
      "</td></tr></table>\n",
      "</a>\n",
      "<![endif]-->\n",
      "</li>\n",
      "<li><a class=\"hide\" href=\"/wst_xzzq/\" target=\"_parent\">下载专区</a>\n",
      "<!--[if lte IE 6]>\n",
      "<a href=\"/wst_xzzq/\" target=\"_parent\">下载专区\n",
      "<table><tr><td>\n",
      "<![endif]-->\n",
      "\n",
      "\n",
      "<!--[if lte IE 6]>\n",
      "</td></tr></table>\n",
      "</a>\n",
      "<![endif]-->\n",
      "</li>\n",
      "   <p style=\" float: left;margin-left: 57px;\"><a href=\"http://www.ln12320.cn/\"  target=\"_parent\" style=\"display:block;width:110px;height:58px;\">&nbsp;&nbsp;&nbsp;</a></p>\n",
      "</ul>\n",
      "</div>\n",
      "          </div>\n",
      "        </div>\n",
      "      </div>\n",
      "    </div>\n",
      "  </div>\n",
      "</div>\n",
      "</body>\n",
      "</html>\n",
      "\n",
      "<!-- no1 start  -->\n",
      "\n",
      "<div class=\"wst_ny_bg1\">\n",
      "\t<div class=\"wst_ny_title\" style=\"background:#fff; margin-left:3px; padding-left:30px;\"><a href=\"../../\" title=\"首页\" class=\"CurrChnlCls\">首页</a>&gt;<a href=\"../\" title=\"卫生健康快讯\" class=\"CurrChnlCls\">卫生健康快讯</a></div></div>\n",
      "\t<div class=\"wst_ny_bg1\" >\n",
      "\t  <div class=\"news-content-main\"style=\"background:#fff;\">\n",
      "      <h1 style=\"font-size:28px;\">2021年新年贺词</h1>\n",
      "      <div class=\"news-info\">来源：&nbsp;&nbsp;&nbsp;&nbsp;发布时间：2020-12-31 20:00:00</span></div>\n",
      "      <div class=\"bdsharebuttonbox\"><a href=\"#\" class=\"bds_weixin\" data-cmd=\"weixin\" title=\"分享到微信\"></a><a href=\"#\" class=\"bds_tsina\" data-cmd=\"tsina\" title=\"分享到新浪微博\"></a><a href=\"#\" class=\"bds_tqq\" data-cmd=\"tqq\" title=\"分享到腾讯微博\"></a><a href=\"#\" class=\"bds_qzone\" data-cmd=\"qzone\" title=\"分享到QQ空间\"></a><a href=\"#\" class=\"bds_more\" data-cmd=\"more\"></a></div>\n",
      "<script>window._bd_share_config={\"common\":{\"bdSnsKey\":{},\"bdText\":\"\",\"bdMini\":\"2\",\"bdMiniList\":false,\"bdPic\":\"\",\"bdStyle\":\"1\",\"bdSize\":\"24\"},\"share\":{}};with(document)0[(getElementsByTagName('head')[0]||body).appendChild(createElement('script')).src='http://bdimg.share.baidu.com/static/api/js/share.js?v=89860593.js?cdnversion='+~(-new Date()/36e5)]; </script></script>\n",
      "      <div class=\"news-text\" id=\"ContTextSize\" >\n",
      "\t\t\t\t\t<div class=TRS_Editor><div class=\"TRS_PreAppend\" style=\"overflow-x: hidden; word-break: break-all\">\n",
      "<p class=\"MsoNormal\" style=\"background: rgb(255,255,255); text-align: left; line-height: 25.05pt; text-indent: 28pt\"><font style=\"line-height: 175%\"><span style=\"font-size: 14pt; font-family: 方正小标宋简体; line-height: 175%\"><font face=\"方正小标宋简体\" style=\"line-height: 175%\">岁月不居，时节如流。</font></span><span style=\"font-size: 14pt; font-family: 宋体; line-height: 175%\"><font face=\"宋体\" style=\"line-height: 175%\">值此</font>2021年元旦来临之际，我谨代表省卫生健康委向全省卫生健康工作者致以节日的祝福！向关心和支持辽宁卫生健康事业改革发展的各级党委、政府和有关部门以及社会各界人士、新闻媒体朋友和全省广大人民群众表示衷心的感谢！向正在争分夺秒抗击疫情、抢救生命的医务工作者深表敬意！</span></font></p>\n",
      "<p class=\"p\" style=\"margin-bottom: 12pt; background: rgb(255,255,255); margin-top: 12pt; text-indent: 28pt\"><span style=\"font-size: 14pt; font-family: 宋体\"><font style=\"line-height: 175%\">2020年是极为不平凡的一年，面对突如其来的新冠肺炎疫情，全省卫生健康系统认真学习贯彻习近平总书记关于统筹疫情防控和经济社会发展的重要讲话和指示批示精神，贯彻落实党中央决策部署，在省委、省政府领导下，闻令而动，白衣为甲、逆行出征，昼夜奋战在全省和支援兄弟省份的抗疫一线，舍生忘死挽救了一个又一个垂危生命，用血肉之躯筑起阻击病毒的钢铁长城，以实际行动践行伟大的抗疫精神，以医者仁心诠释大爱无疆的职业情怀！</font></span></p>\n",
      "<p class=\"MsoNormal\" style=\"text-indent: 28pt\"><span style=\"font-size: 14pt; font-family: 宋体\"><font style=\"line-height: 175%\">2020年是具有重要里程碑的一年，伴随着收获的喜悦，承载着发展的梦想，卫生健康事业走过了“十三五”不平凡的5年。回首5年来的工作，我们并肩协作，我们携手共创，我们共同见证。</font></span></p>\n",
      "<p class=\"MsoNormal\" style=\"text-indent: 28pt\"><font style=\"line-height: 175%\"><span style=\"font-size: 14pt; font-family: 方正小标宋简体; line-height: 175%\"><font face=\"方正小标宋简体\" style=\"line-height: 175%\">这五年，</font></span><span style=\"font-size: 14pt; font-family: 宋体; line-height: 175%\"><font face=\"宋体\" style=\"line-height: 175%\">我们把人民对美好生活的向往作为我们的奋斗目标，求真务实，真抓实干，着眼全生命周期健康、防控重大疾病，启动实施健康辽宁行动，居民主要健康指标持续向好。</font></span><span style=\"font-size: 14pt; font-family: 方正小标宋简体; line-height: 175%\"><font face=\"方正小标宋简体\" style=\"line-height: 175%\">这五年，</font></span><span style=\"font-size: 14pt; font-family: 宋体; line-height: 175%\"><font face=\"宋体\" style=\"line-height: 175%\">我们矢志不渝推进医药卫生体制改革。强化医疗、医保、医药</font>“三医联动”，国家区域医疗中心建设取得突破，医联体和县域综合医改全面推进，群众就医负担持续减轻。</span><span style=\"font-size: 14pt; font-family: 方正小标宋简体; line-height: 175%\"><font face=\"方正小标宋简体\" style=\"line-height: 175%\">这五年，</font></span><span style=\"font-size: 14pt; font-family: 宋体; line-height: 175%\"><font face=\"宋体\" style=\"line-height: 175%\">公共卫生服务能力再上新台阶。重大传染病防控策略持续优化，人均基本公共卫生服务经费补助标准由</font>40元提高到74元，免费向全体城乡居民提供12类国家基本公共卫生服务项目和其他16项基本公共卫生服务项目。</span><span style=\"font-size: 14pt; font-family: 方正小标宋简体; line-height: 175%\"><font face=\"方正小标宋简体\" style=\"line-height: 175%\">这五年，</font></span><span style=\"font-size: 14pt; font-family: 宋体; line-height: 175%\"><font face=\"宋体\" style=\"line-height: 175%\">健康扶贫成效显著。围绕</font>“基本医疗有保障”目标，落实健康扶贫“三个一批”实现大病专项救治率、慢病签约服务率、重病兜底保障率三个100%。实施大病不出县两年行动计划。</span><span style=\"font-size: 14pt; font-family: 方正小标宋简体; line-height: 175%\"><font face=\"方正小标宋简体\" style=\"line-height: 175%\">这五年，</font></span><span style=\"font-size: 14pt; font-family: 宋体; line-height: 175%\"><font face=\"宋体\" style=\"line-height: 175%\">中医药发展取得长足进步。中医医疗服务体系更加完善。建设</font>11个国家中医药局区域中医（专科）诊疗中心和91个省重点专科和特色专科。基层医疗机构中医诊疗量占比上升到26%。</span><span style=\"font-size: 14pt; font-family: 方正小标宋简体; line-height: 175%\"><font face=\"方正小标宋简体\" style=\"line-height: 175%\">这五年，</font></span><span style=\"font-size: 14pt; font-family: 宋体; line-height: 175%\"><font face=\"宋体\" style=\"line-height: 175%\">我们积极推进</font>“一老一小”健康服务。实施全面二孩政策，促进3岁以下婴幼儿照护服务发展。将老年健康与医养结合服务列入国家基本公共卫生服务，推进医养结合，为老年人提供更加优质便捷的健康养老服务。</span><span style=\"font-size: 14pt; font-family: 方正小标宋简体; line-height: 175%\"><font face=\"方正小标宋简体\" style=\"line-height: 175%\">这五年</font></span><span style=\"font-size: 14pt; font-family: 黑体; line-height: 175%\"><font face=\"黑体\" style=\"line-height: 175%\">，</font></span><span style=\"font-size: 14pt; font-family: 宋体; line-height: 175%\"><font face=\"宋体\" style=\"line-height: 175%\">我们认真贯彻全面从严治党要求，坚定扛起主体责任。深入学习贯彻习近平总书记系列重要讲话精神，扎实开展</font>“三严三实”专题教育、“两学一做”学习教育、“不忘初心、牢记使命”主题教育，严格履行党建工作和党风廉政建设责任，努力塑造行业清风正气。</span></font></p>\n",
      "<p class=\"MsoNormal\" style=\"text-indent: 28.1pt\"><font style=\"line-height: 175%\"><b style=\"line-height: 175%\"><span style=\"font-size: 14pt; font-family: 方正小标宋简体; font-weight: bold; line-height: 175%\"><font face=\"方正小标宋简体\" style=\"line-height: 175%\">旧岁已展千重锦，新年更进百尺杆。</font></span></b><span style=\"font-size: 14pt; font-family: 宋体; line-height: 175%\"><font face=\"宋体\" style=\"line-height: 175%\">新起点、新征程要有新气象、新作为，更要有新担当、新状态。</font>2021年，是中国共产党成立100周年，也是“十四五”开局之年。全省卫生健康工作要坚持以人民健康为中心，主动融入、服务于辽宁全面振兴取得新突破这一大局，以改革创新为根本动力，加快推进健康辽宁建设，持续深化医药卫生体制改革；坚持预防为主，强化数字赋能，大力发展数字健康和智慧医疗；以安全为底线，以补短板强弱项为重点，努力构建优质高效的医疗服务体系、强大有力的公共卫生防控体系、全面覆盖的疾病预防和干预体系、快速精准的卫生应急体系、内涵丰富的健康产业体系和科学完善的现代化卫生健康治理体系，精准对接新时代人民群众日益增长的多样化医疗卫生健康需求，全方位、全周期保障人民健康。</span></font></p>\n",
      "<p class=\"MsoNormal\" style=\"text-indent: 28.1pt\"><font style=\"line-height: 175%\"><b style=\"line-height: 175%\"><span style=\"font-size: 14pt; font-family: 方正小标宋简体; font-weight: bold; line-height: 175%\"><font face=\"方正小标宋简体\" style=\"line-height: 175%\">实干兴伟业，奋斗铸辉煌。</font></span></b><span style=\"font-size: 14pt; font-family: 宋体; line-height: 175%\">2021年砥砺奋进的号角已经吹响，让我们肩负起时代赋予的使命和责任，以舍我其谁的担当精神、敢为人先的创新意识、愚公移山的实干作风，聚焦高质量发展，发扬斗争精神，团结一心，砥砺前行，不断开创我省卫生健康事业发展新局面。</span></font></p>\n",
      "<p class=\"MsoNormal\" style=\"text-indent: 28pt\"><span style=\"font-size: 14pt; font-family: 宋体\"><font style=\"line-height: 175%\"><font face=\"宋体\" style=\"line-height: 175%\">新的一年，衷心祝愿全省卫生健康工作者身体健康，家庭幸福！</font> </font></span></p>\n",
      "<p class=\"MsoNormal\" style=\"text-indent: 28pt\">&nbsp;</p>\n",
      "<p class=\"MsoNormal\" style=\"text-indent: 28pt\"><span style=\"font-size: 14pt; font-family: 宋体\"><font style=\"line-height: 175%\">&nbsp;&nbsp;&nbsp;&nbsp;&nbsp;&nbsp;&nbsp;&nbsp;&nbsp;&nbsp;&nbsp;&nbsp;&nbsp;&nbsp;&nbsp; 省卫生健康委党组书记、主任&nbsp; 王大南</font></span></p>\n",
      "<p class=\"MsoNormal\" style=\"text-indent: 28pt\"><span style=\"font-size: 14pt; font-family: 宋体\"><font style=\"line-height: 175%\">&nbsp;&nbsp;&nbsp;&nbsp;&nbsp;&nbsp;&nbsp;&nbsp;&nbsp;&nbsp;&nbsp;&nbsp;&nbsp;&nbsp;&nbsp;&nbsp;&nbsp;&nbsp;&nbsp;&nbsp;&nbsp;&nbsp;&nbsp;&nbsp; &nbsp; 2020年12月31日</font></span></p>\n",
      "</div></div>          \n",
      "                 </div>\n",
      "<!---获取相关文档-->\n",
      "\n",
      "      <!-- 附件下载 隐藏显示 -->\n",
      "<script type=\"text/javascript\">\n",
      "var ConTent_APPENDIX='';var AppFilesnames='';if(ConTent_APPENDIX!=\"\"){document.write('<div class=\"news-attachment\"><div class=\"news-atta-header\"><h4>【附件下载】</h4></div><div class=\"news-atta-body\"><ul>');var AppenDIX_Array=ConTent_APPENDIX.split(\";\");var AppenDIx_Name=AppFilesnames.split(\";\");for(var AppeDIX_nums=0;AppeDIX_nums<AppenDIX_Array.length;AppeDIX_nums++){document.write('<li style=\"background:none;\"><a href=\"'+AppenDIX_Array[AppeDIX_nums]+'\" target=\"_blank\" class=\"cont-app-file\">'+AppenDIx_Name[AppeDIX_nums]+'</a></li>')}document.write('</ul></div></div>')}\n",
      "</script>\n",
      "      \n",
      "\n",
      "    </div>\n",
      "    </div>\n",
      "\n",
      " \n",
      "<!doctype html>\n",
      "<html>\n",
      "<head>\n",
      "<meta charset=\"gb2312\">\n",
      "<title>辽宁省卫生健康委员会</title>\n",
      "<meta http-equiv=\"X-UA-Compatible\" content=\"IE=7,IE=9\" />\n",
      "\n",
      "<link rel=\"shortcut icon\" href=\"/favicon.ico\" />\n",
      "<link rel=\"stylesheet\" type=\"text/css\" href=\"static_new/css/core.css\">\n",
      "<link rel=\"stylesheet\" type=\"text/css\" href=\"../../static_new/css/core.css\">\n",
      "<style>\n",
      ".footer_main ul li a:link,.footer_main ul li a:visited {\n",
      "    color: #818181;\n",
      "}\n",
      "</style>\n",
      "<body>\n",
      "<!-- start: footer  -->\n",
      "<div class=\"footer\" style=\"margin-top:0px;\">\n",
      "  <div class=\"wrap\">\n",
      "  <div class=\"footer_title\">辽宁省卫生健康委员会</div>\n",
      "    <div class=\"footer_erweima\"><a href=\"http://bszs.conac.cn/sitename?method=show&id=207767E141A83C20E053022819AC222E\" target=\"_blank\"><img src=\"../../static_new/images/dzjg.jpg\" width=\"51\" height=\"63\" /></a></div>\n",
      "    <div class=\"footer_main\">\n",
      "      <ul>\n",
      "        <li><a  href=\"/index.html\" target=\"_parent\">网站首页</a></li>\n",
      "        <li> <a href=\"/wst_xxgk/\" target=\"_parent\">信息公开</a></li>\n",
      "        <li> <a href=\"/wst_ggfw/wst_gyfw/\" target=\"_parent\">公益服务</a></li>\n",
      "        <li> <a href=\"/wst_hdjl/\" target=\"_parent\">互动交流</a></li>\n",
      "        <li> <a href=\"/wst_ztzl/\" target=\"_parent\">专题专栏</a></li>\n",
      "        <li> <a href=\"/wst_gywm/\" target=\"_parent\">关于我们</a></li>\n",
      "        <li> <a href=\"/wst_zzsm/\" target=\"_parent\">郑重声明</a></li>\n",
      "        <li> <a href=\"/wst_wzdt/\" target=\"_parent\">网站地图</a></li>\n",
      "      </ul>\n",
      "      <br/>\n",
      "      本网站各类信息未经授权禁止转载    辽宁省卫生健康委版权所有    备案编号：辽ICP备10204461号 </div>\n",
      "      <div class=\"footer_fwl\" style=\"text-align:center;line-height:20px;\">\n",
      "访问量<br>\n",
      "\n",
      "<iframe frameborder=\"0\" scrolling=\"no\" src=\"http://218.60.144.36:4001/jsq.aspx\" width=\"186\" height=\"38\"></iframe>\n",
      "\n",
      "</div>\n",
      "    <br style=\"clear:both;\"/>\n",
      "    <div style=\"position:absolute;margin-top:-75px;margin-left:-150px;\"><script id=\"_jiucuo_\" sitecode='2100000068' src='../../images/jiucuo.js'></script></div>\n",
      "  </div>\n",
      "</div>\n",
      "<!-- end: footer  -->\n",
      "</body>\n",
      "</html>\n",
      "</body>\n",
      "</html>\n"
     ]
    }
   ],
   "source": [
    "print(list(news_dict.values())[0])"
   ]
  },
  {
   "cell_type": "code",
   "execution_count": null,
   "metadata": {},
   "outputs": [],
   "source": []
  }
 ],
 "metadata": {
  "kernelspec": {
   "display_name": "Python 3",
   "language": "python",
   "name": "python3"
  },
  "language_info": {
   "codemirror_mode": {
    "name": "ipython",
    "version": 3
   },
   "file_extension": ".py",
   "mimetype": "text/x-python",
   "name": "python",
   "nbconvert_exporter": "python",
   "pygments_lexer": "ipython3",
   "version": "3.8.5"
  },
  "toc": {
   "base_numbering": 1,
   "nav_menu": {},
   "number_sections": true,
   "sideBar": true,
   "skip_h1_title": false,
   "title_cell": "Table of Contents",
   "title_sidebar": "Contents",
   "toc_cell": false,
   "toc_position": {},
   "toc_section_display": true,
   "toc_window_display": false
  },
  "varInspector": {
   "cols": {
    "lenName": 16,
    "lenType": 16,
    "lenVar": 40
   },
   "kernels_config": {
    "python": {
     "delete_cmd_postfix": "",
     "delete_cmd_prefix": "del ",
     "library": "var_list.py",
     "varRefreshCmd": "print(var_dic_list())"
    },
    "r": {
     "delete_cmd_postfix": ") ",
     "delete_cmd_prefix": "rm(",
     "library": "var_list.r",
     "varRefreshCmd": "cat(var_dic_list()) "
    }
   },
   "types_to_exclude": [
    "module",
    "function",
    "builtin_function_or_method",
    "instance",
    "_Feature"
   ],
   "window_display": false
  }
 },
 "nbformat": 4,
 "nbformat_minor": 4
}
